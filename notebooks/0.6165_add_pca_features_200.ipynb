{
  "nbformat": 4,
  "nbformat_minor": 0,
  "metadata": {
    "colab": {
      "provenance": [],
      "toc_visible": true,
      "mount_file_id": "1LdLeWP408LB3PxVC8_m_UiuHCoZymKG-",
      "authorship_tag": "ABX9TyOJuB4fNzyWOAeWLa2TekTw",
      "include_colab_link": true
    },
    "kernelspec": {
      "name": "python3",
      "display_name": "Python 3"
    },
    "language_info": {
      "name": "python"
    }
  },
  "cells": [
    {
      "cell_type": "markdown",
      "metadata": {
        "id": "view-in-github",
        "colab_type": "text"
      },
      "source": [
        "<a href=\"https://colab.research.google.com/github/kota-mizu/atmaCup-20/blob/main/notebooks/0.6165_add_pca_features_200.ipynb\" target=\"_parent\"><img src=\"https://colab.research.google.com/assets/colab-badge.svg\" alt=\"Open In Colab\"/></a>"
      ]
    },
    {
      "cell_type": "code",
      "execution_count": 1,
      "metadata": {
        "collapsed": true,
        "id": "Qev57z56QTzi"
      },
      "outputs": [],
      "source": [
        "# !pip install ydata-profiling"
      ]
    },
    {
      "cell_type": "markdown",
      "source": [
        "## ライブラリのインポート"
      ],
      "metadata": {
        "id": "POk0kcdBYFcY"
      }
    },
    {
      "cell_type": "code",
      "source": [
        "# ====================================================\n",
        "# Library\n",
        "# ====================================================\n",
        "import os\n",
        "import gc\n",
        "import warnings\n",
        "warnings.filterwarnings('ignore')\n",
        "import random\n",
        "from scipy import sparse as sp\n",
        "import numpy as np\n",
        "import pandas as pd\n",
        "import polars as pl\n",
        "from glob import glob\n",
        "from pathlib import Path\n",
        "import joblib\n",
        "import pickle\n",
        "import itertools\n",
        "from tqdm.auto import tqdm\n",
        "from datetime import datetime\n",
        "\n",
        "\n",
        "import torch\n",
        "from sklearn.model_selection import KFold, StratifiedKFold, train_test_split, GroupKFold, StratifiedGroupKFold\n",
        "from sklearn.metrics import log_loss, roc_auc_score, matthews_corrcoef, f1_score\n",
        "from sklearn.metrics import mean_squared_error\n",
        "from sklearn.preprocessing import LabelEncoder\n",
        "from sklearn.decomposition import TruncatedSVD, NMF\n",
        "import lightgbm as lgb\n",
        "import xgboost as xgb\n",
        "# from catboost import Pool, CatBoostRegressor, CatBoostClassifier\n",
        "import time\n",
        "\n",
        "# import implicit\n",
        "import scipy.stats as stats\n",
        "from scipy.sparse import coo_matrix\n",
        "from pprint import pprint\n",
        "\n",
        "from abc import ABC, abstractmethod"
      ],
      "metadata": {
        "id": "yafbIHhzQYEV"
      },
      "execution_count": 2,
      "outputs": []
    },
    {
      "cell_type": "markdown",
      "source": [
        "## Config"
      ],
      "metadata": {
        "id": "kg1DqQwaj2KG"
      }
    },
    {
      "cell_type": "code",
      "source": [
        "# ====================================================\n",
        "# Configurations\n",
        "# ====================================================\n",
        "class CFG:\n",
        "    #実験設定\n",
        "    # USE_GPU = torch.cuda.is_available()\n",
        "    SEED = 42\n",
        "    N_SPLIT = 4\n",
        "    metric = 'auc'\n",
        "    metric_maximize_flag = True\n",
        "    VER = 1.3 #PCAのみを特徴量とする\n",
        "\n",
        "    # COMPETITION = 'atmacup20'\n",
        "    MAIN_PATH = '/content/drive/MyDrive/atmaCup#20' ### パスを適宜変更\n",
        "    # DATA_PATH = Path(f'{MAIN_PATH}/data')\n",
        "    # OUTPUT_PATH = Path(f'{MAIN_PATH}/output')\n",
        "    MODEL_PATH = Path(f'{MAIN_PATH}/model/')\n",
        "    SUBMISSION_PATH = Path(f'{MAIN_PATH}/submission/')\n",
        "    PREPROCESSED_DATA_PATH = Path(f'{MAIN_PATH}/preprocessed_data')\n",
        "    OOF_DATA_PATH = Path(f'{MAIN_PATH}/oof')\n",
        "    MODEL_DATA_PATH = Path(f'{MAIN_PATH}/models')\n",
        "    # バージョンごとの実験用パスを自動で作成\n",
        "    EXP_MODEL_PATH = MODEL_PATH / f\"exp{VER}\"\n",
        "    # EXP_SUBMISSION_PATH = SUBMISSION_PATH / f\"exp{VER}\"\n",
        "\n",
        "\n",
        "    num_boost_round = 2500\n",
        "    early_stopping_round = 50\n",
        "    verbose = 100\n",
        "\n",
        "    lgb_params = {\n",
        "        'boosting_type': 'gbdt',\n",
        "        'objective': 'binary',\n",
        "        'metric': 'auc',\n",
        "        'n_estimators': 10000,\n",
        "        'learning_rate': 0.05,\n",
        "        'random_state': SEED,\n",
        "        'device': 'cpu',\n",
        "        \"max_depth\": 15,\n",
        "        \"num_leaves\": 6,\n",
        "        \"colsample_bytree\": 0.9,\n",
        "        \"colsample_bynode\": 0.6,\n",
        "        \"reg_alpha\": 3.5,\n",
        "        \"reg_lambda\": 1.5,\n",
        "        \"min_child_samples\": 50,\n",
        "        \"subsample\": 0.8,\n",
        "        \"subsample_freq\": 1,\n",
        "    }\n",
        "    xgb_params = {\n",
        "        'tree_method': \"hist\",\n",
        "        'objective': 'binary:logistic',\n",
        "        'eval_metric': 'auc', # 'logloss',\n",
        "        'n_estimators':10000,\n",
        "        'early_stopping_rounds': 50,\n",
        "        'learning_rate': 0.05,\n",
        "        'max_depth': 6,\n",
        "        'random_state': SEED,\n",
        "        'gamma':0.1,\n",
        "        'subsample':0.8,\n",
        "        'colsample_bytree':0.3,\n",
        "        'min_child_weight':3,\n",
        "        'enable_categorical': True,\n",
        "    }\n",
        "\n",
        "    cat_params = {\n",
        "        'loss_function': 'Logloss',\n",
        "        'eval_metric': 'AUC', #\n",
        "        'learning_rate': 0.05,\n",
        "        'iterations': num_boost_round,\n",
        "        'depth': 3,\n",
        "        'random_seed': SEED,\n",
        "    }"
      ],
      "metadata": {
        "id": "ycolqT9ugD_p"
      },
      "execution_count": 3,
      "outputs": []
    },
    {
      "cell_type": "code",
      "source": [
        "# random seedを固定\n",
        "def fix_seed(seed):\n",
        "    # random\n",
        "    random.seed(seed)\n",
        "    # Numpy\n",
        "    np.random.seed(seed)\n",
        "    os.environ[\"PYTHONHASHSEED\"] = str(seed)\n",
        "\n",
        "fix_seed(CFG.SEED)"
      ],
      "metadata": {
        "id": "gVPRvXs7gGDm"
      },
      "execution_count": 4,
      "outputs": []
    },
    {
      "cell_type": "markdown",
      "source": [
        "## データの読み込み"
      ],
      "metadata": {
        "id": "qlAqKNtvYJZ0"
      }
    },
    {
      "cell_type": "code",
      "source": [
        "from google.colab import drive\n",
        "drive.mount('/content/drive')"
      ],
      "metadata": {
        "colab": {
          "base_uri": "https://localhost:8080/"
        },
        "id": "fFnSg8JOSl33",
        "outputId": "827f5c99-fd81-4461-8b62-0193c76246f1"
      },
      "execution_count": 5,
      "outputs": [
        {
          "output_type": "stream",
          "name": "stdout",
          "text": [
            "Mounted at /content/drive\n"
          ]
        }
      ]
    },
    {
      "cell_type": "code",
      "source": [
        "DATA_DIR = '/content/drive/MyDrive/atmaCup#20/'"
      ],
      "metadata": {
        "id": "x-4DLXaBQayK"
      },
      "execution_count": 6,
      "outputs": []
    },
    {
      "cell_type": "code",
      "source": [
        "#@title データロード\n",
        "\n",
        "class DataLoader(ABC):\n",
        "    \"\"\"\n",
        "    データローダーの抽象クラス\n",
        "    \"\"\"\n",
        "\n",
        "    def __init__(self):\n",
        "        \"\"\"\n",
        "        初期化メソッド\n",
        "        \"\"\"\n",
        "        pass\n",
        "\n",
        "    @abstractmethod\n",
        "    def get(self) -> pl.DataFrame:\n",
        "        \"\"\"\n",
        "        データを取得する抽象メソッド\n",
        "        サブクラスで実装する必要があります\n",
        "        \"\"\"\n",
        "        pass"
      ],
      "metadata": {
        "id": "6ih-Yl2UaOSB"
      },
      "execution_count": 7,
      "outputs": []
    },
    {
      "cell_type": "code",
      "source": [
        "class TrainLoader(DataLoader):\n",
        "    \"\"\"train.csvファイルを読み込むためのDataLoader\"\"\"\n",
        "\n",
        "    def __init__(self, file_path: str = \"train.csv\"):\n",
        "        super().__init__()\n",
        "        self.file_path = file_path\n",
        "        self.df = pl.read_csv(self.file_path)\n",
        "\n",
        "        column_mapping = {\n",
        "            \"社員番号\": \"employee_id\",\n",
        "        }\n",
        "\n",
        "        # カラム名を変更\n",
        "        self.df = self.df.rename(column_mapping)\n",
        "\n",
        "        # response_mapping = {\n",
        "        #     \"コーポレート管理部門/技術・データ・BPR\": \"corporate_ops\",\n",
        "        #     \"事業企画・開発・研究\": \"business_dev\",\n",
        "        #     \"マーケティング\": \"marketing\",\n",
        "        #     \"営業\": \"sales\",\n",
        "        #     \"コンテンツ・サービス・デザイン\": \"content_design\",\n",
        "        #     \"プロダクトマネジメント\": \"product_mgmt\",\n",
        "        # }\n",
        "\n",
        "        # self.df = self.df.with_columns(\n",
        "        #     pl.col(\"category\").replace_strict(response_mapping)\n",
        "        # )\n",
        "\n",
        "    def get(self):\n",
        "        return self.df"
      ],
      "metadata": {
        "id": "2cCxD9CgaSIR"
      },
      "execution_count": 8,
      "outputs": []
    },
    {
      "cell_type": "code",
      "source": [
        "class TestLoader(DataLoader):\n",
        "    \"\"\"test.csvファイル用のDataLoader\"\"\"\n",
        "\n",
        "    def __init__(self, file_path: str = \"test.csv\"):\n",
        "        super().__init__()\n",
        "        self.file_path = file_path\n",
        "        self.df = pl.read_csv(self.file_path)\n",
        "\n",
        "        column_mapping = {\n",
        "            \"社員番号\": \"employee_id\",\n",
        "        }\n",
        "\n",
        "        # カラム名を変更\n",
        "        self.df = self.df.rename(column_mapping)\n",
        "\n",
        "        # response_mapping = {\n",
        "        #     \"コーポレート管理部門/技術・データ・BPR\": \"corporate_ops\",\n",
        "        #     \"事業企画・開発・研究\": \"business_dev\",\n",
        "        #     \"マーケティング\": \"marketing\",\n",
        "        #     \"営業\": \"sales\",\n",
        "        #     \"コンテンツ・サービス・デザイン\": \"content_design\",\n",
        "        #     \"プロダクトマネジメント\": \"product_mgmt\",\n",
        "        # }\n",
        "\n",
        "        # self.df = self.df.with_columns(\n",
        "        #     pl.col(\"category\").replace_strict(response_mapping)\n",
        "        # )\n",
        "\n",
        "    def get(self):\n",
        "        return self.df"
      ],
      "metadata": {
        "id": "W2GCnO6bb2np"
      },
      "execution_count": 9,
      "outputs": []
    },
    {
      "cell_type": "code",
      "source": [
        "class CareerLoader(DataLoader):\n",
        "    \"\"\"career.csvファイル用のDataLoader\"\"\"\n",
        "\n",
        "    def __init__(self, file_path: str = \"career.csv\"):\n",
        "        super().__init__()\n",
        "        self.file_path = file_path\n",
        "        self.df = pl.read_csv(self.file_path)\n",
        "\n",
        "        column_mapping = {\n",
        "            \"社員番号\": \"employee_id\",\n",
        "            \"自分の能力を発揮できる仕事上の得意分野が見つかっている\\n\": \"found_strengths\",\n",
        "            \"自分はどんな仕事をやりたいのか明らかである      \\n\": \"clear_job_interest\",\n",
        "            \"自分は何を望んで今の仕事をしているのかわかっている\\n\": \"know_job_purpose\",\n",
        "            \"自分なりの職業的な生き方に関する目標・目的がはっきりしている\\n\": \"clear_career_goals\",\n",
        "            \"自分のこれからのキャリアには、あまり関心がない\\n\": \"low_career_interest\",\n",
        "            \"これからのキャリアを、より充実したものにしたいと強く思う\\n\": \"strong_career_desire\",\n",
        "            \"キャリア設計（職業生活の設計）は、自分にとって重要な課題である\\n\": \"career_design_important\",\n",
        "            \"これからのキャリアをどう歩むべきか、あまり考えていない\\n\": \"not_thinking_future_career\",\n",
        "            \"納得いくキャリアを歩めるかどうかは、自分の責任だと思う\\n\": \"career_satisfaction_my_responsibility\",\n",
        "            \"キャリア形成は、自分自身の責任である\\n\": \"career_dev_my_responsibility\",\n",
        "            \"納得いくキャリアを歩めない原因の大半は周囲の環境にある\\n\": \"blame_env_for_unsat_career\",\n",
        "            \"キャリアは周りの環境によって決められていくものだと思う\\n\": \"career_shaped_by_env\",\n",
        "            \"新しい環境や状況にも、わりあい早くなじんで対応している\": \"adapt_new_env_quickly\",\n",
        "            \"職場環境の変化に対して自分なりに考えて対応している\": \"respond_to_work_env_changes\",\n",
        "            \"新しい職場に移ってもすぐに自分らしさを発揮している\": \"show_self_in_new_workplace\",\n",
        "            \"職場の制度や仕事が変わってもすぐ対応している\": \"adapt_to_work_changes\",\n",
        "            \"自分の職種・業界分野における最新動向を常に情報収集している\": \"track_industry_trends\",\n",
        "            \"仕事のために新しいことをいろいろ勉強している\": \"study_new_for_work\",\n",
        "            \"社会・経済の動きや成り行きに関する情報を、積極的に収集している\": \"follow_social_econ_trends\",\n",
        "            \"新しい知識・技術を積極的に学ぶように努めている\": \"learn_new_tech\",\n",
        "            \"新しい人間関係が構築できるように、社内外の活動に積極的に参加している\": \"build_relations_actively\",\n",
        "            \"仕事と直接関係ない人とも積極的に交流するようにしている\": \"interact_beyond_work\",\n",
        "            \"新しいネットワークづくりに常に取り組んでいる\": \"build_new_networks\",\n",
        "            \"自分の満足感を高めるように、仕事のやり方を工夫している\": \"improve_work_for_satisfaction\",\n",
        "            \"常に自発的に仕事を行っている\": \"work_proactively\",\n",
        "            \"自分の価値観やポリシーを持って仕事に取り組んでいる\": \"work_with_values\",\n",
        "            \"仕事の進め方や企画を立てる上で、今までの延長上のやり方ではなく、自分なりの発想を持って取り組んでいる\": \"creative_work_planning\",\n",
        "            \"少人数チームで協力してタスクを完遂できる\": \"small_team_collab\",\n",
        "            \"メンバー全員のアイデアを取り入れて成果物を作れる\": \"integrate_team_ideas\",\n",
        "            \"同僚や上司に向けて口頭でプレゼンテーションができる\": \"oral_presentation\",\n",
        "            \"スライドや動画などのデジタル資料を用いて情報を共有できる\": \"share_info_digitally\",\n",
        "            \"異なる視点を比較して最適な解決策を選べる\": \"compare_views_find_solution\",\n",
        "            \"正解が一つでない問題に対して解決策を導き出せる\": \"solve_ambiguous_problems\",\n",
        "            \"複数のアイデアを試行し改善を重ねられる\": \"iterate_ideas_improve\",\n",
        "            \"困難な業務課題に対して独自の解決策を考案できる\": \"create_unique_solutions\",\n",
        "            \"自分の進捗をモニタリングし計画を柔軟に調整できる\": \"monitor_and_adjust_plan\",\n",
        "            \"フィードバックを受けて自ら仕事を改善できる\": \"use_feedback_to_improve\",\n",
        "            \"業務データを可視化し\\xa0BI\\xa0ダッシュボードで意思決定に活用できる\": \"use_bi_for_decision\",\n",
        "            \"RPA／ノーコードツールで反復的な業務フローを自動化できる\": \"automate_with_rpa\",\n",
        "            \"生成\\xa0AI\\xa0や機械学習モデルを業務改善に活用できる\": \"use_ai_ml_for_improvement\",\n",
        "            \"クラウド環境のアクセス権限を監査し情報保護を徹底できる\": \"audit_cloud_security\",\n",
        "            \"デジタルマーケティング施策（SNS\\xa0広告等）をデータで最適化できる\": \"optimize_digital_marketing\",\n",
        "            \"顧客・市場データを用いて新商品・サービス企画を立案できる\": \"plan_products_with_data\",\n",
        "            \"クラウド／DevOps\\xa0環境を構築し\\xa0IaC\\xa0で継続的デプロイを管理できる\": \"manage_devops_with_iac\",\n",
        "            \"デジタルツインや\\xa0IoT\\xa0データを用いたサプライチェーン最適化を提案・実装できる\": \"optimize_supply_with_iot\",\n",
        "        }\n",
        "\n",
        "        # カラム名を変更\n",
        "        self.df = self.df.rename(column_mapping)\n",
        "\n",
        "        response_mapping = {\n",
        "            \"1 全くそう思わない／全く当てはまらない\": 1,\n",
        "            \"2 あまりそう思わない／あまり当てはまらない\": 2,\n",
        "            \"3 どちらとも言えない\": 3,\n",
        "            \"4 そう思う／当てはまる\": 4,\n",
        "            \"5 強くそう思う／とても当てはまる \": 5,\n",
        "            \"5 強くそう思う／とても当てはまる\": 5,\n",
        "        }\n",
        "\n",
        "        target_cols = [col for col in self.df.columns if col != \"employee_id\"]\n",
        "\n",
        "        # 各列にマッピングを適用して更新\n",
        "        for col in target_cols:\n",
        "            self.df = self.df.with_columns(\n",
        "                pl.col(col).replace_strict(response_mapping)\n",
        "            )\n",
        "\n",
        "    def get(self):\n",
        "        return self.df"
      ],
      "metadata": {
        "id": "80Lm2Iv0bS6o"
      },
      "execution_count": 10,
      "outputs": []
    },
    {
      "cell_type": "code",
      "source": [
        "class DXLoader(DataLoader):\n",
        "    \"\"\"dx.csvファイル用のDataLoader\"\"\"\n",
        "\n",
        "    def __init__(self, file_path: str = \"dx.csv\"):\n",
        "        super().__init__()\n",
        "        self.file_path = file_path\n",
        "        self.df = pl.read_csv(self.file_path)\n",
        "\n",
        "        column_mapping = {\n",
        "            \"社員番号\": \"employee_id\",\n",
        "            \"研修実施日\": \"training_date\",\n",
        "            \"研修カテゴリ\": \"training_category\",\n",
        "            \"研修名\": \"training_name\",\n",
        "        }\n",
        "\n",
        "        self.df = self.df.rename(column_mapping)\n",
        "\n",
        "        self.df = self.df.with_columns(\n",
        "            pl.col(\"training_date\").str.strptime(pl.Date, \"%F %T\", strict=False),\n",
        "        )\n",
        "\n",
        "        enc = LabelEncoder()\n",
        "        self.df = self.df.with_columns(\n",
        "            pl.col(\"training_category\").map_batches(enc.fit_transform)\n",
        "        )\n",
        "\n",
        "        enc = LabelEncoder()\n",
        "        self.df = self.df.with_columns(\n",
        "            pl.col(\"training_name\").map_batches(enc.fit_transform)\n",
        "        )\n",
        "\n",
        "    def get(self):\n",
        "        return self.df\n"
      ],
      "metadata": {
        "id": "gsxA9lz1bX0W"
      },
      "execution_count": 11,
      "outputs": []
    },
    {
      "cell_type": "code",
      "source": [
        "class HRLoader(DataLoader):\n",
        "    \"\"\"hr.csvファイル用のDataLoader\"\"\"\n",
        "\n",
        "    def __init__(self, file_path: str = \"dx.csv\"):\n",
        "        super().__init__()\n",
        "        self.file_path = file_path\n",
        "        self.df = pl.read_csv(self.file_path)\n",
        "\n",
        "        column_mapping = {\n",
        "            \"社員番号\": \"employee_id\",\n",
        "            \"カテゴリ\": \"hr_training_category\",\n",
        "            \"研修名\": \"hr_training_name\",\n",
        "            \"実施日\": \"hr_training_date\",\n",
        "        }\n",
        "\n",
        "        self.df = self.df.rename(column_mapping)\n",
        "\n",
        "        self.df = self.df.with_columns(\n",
        "            pl.col(\"hr_training_date\").str.split(\",\")  # カンマで分割してリストに\n",
        "        ).explode(\"hr_training_date\")  # リストを縦に展開\n",
        "\n",
        "        # TODO: 日付のフォーマットが複数あるので、coalesceでフォーマットを変換\n",
        "        # self.df = self.df.with_columns(\n",
        "        #     pl.col(\"hr_training_date\").map_elements(extract_dates_polars, return_dtype=pl.List(pl.String)).alias(\"hr_training_date\")\n",
        "        # ).explode(\"hr_training_date\")\n",
        "\n",
        "        self.df = self.df.with_columns([\n",
        "            pl.coalesce([\n",
        "                pl.col(\"hr_training_date\").str.strptime(pl.Date, \"%Y/%m/%d\", strict=False),\n",
        "                pl.col(\"hr_training_date\").str.strptime(pl.Date, \"%Y-%m-%d %H:%M:%S\", strict=False)\n",
        "            ])\n",
        "        ])\n",
        "\n",
        "        enc = LabelEncoder()\n",
        "        self.df = self.df.with_columns(\n",
        "            pl.col(\"hr_training_category\").map_batches(enc.fit_transform)\n",
        "        )\n",
        "\n",
        "        enc = LabelEncoder()\n",
        "        self.df = self.df.with_columns(\n",
        "            pl.col(\"hr_training_name\").map_batches(enc.fit_transform)\n",
        "        )\n",
        "\n",
        "\n",
        "    def get(self):\n",
        "        return self.df"
      ],
      "metadata": {
        "id": "22LWzbE4bc9k"
      },
      "execution_count": 12,
      "outputs": []
    },
    {
      "cell_type": "code",
      "source": [
        "class OvertimeWorkLoader(DataLoader):\n",
        "    \"\"\"overtime_work_by_month.csvファイル用のDataLoader\"\"\"\n",
        "\n",
        "    def __init__(self, file_path: str = \"overtime_work_by_month.csv\"):\n",
        "        super().__init__()\n",
        "        self.file_path = file_path\n",
        "        self.df = pl.read_csv(self.file_path)\n",
        "\n",
        "        column_mapping = {\n",
        "            \"社員番号\": \"employee_id\",\n",
        "        }\n",
        "\n",
        "        self.df = self.df.rename(column_mapping)\n",
        "\n",
        "    def get(self):\n",
        "        return self.df"
      ],
      "metadata": {
        "id": "JegvBW1UbhPo"
      },
      "execution_count": 13,
      "outputs": []
    },
    {
      "cell_type": "code",
      "source": [
        "class PositionHistoryLoader(DataLoader):\n",
        "    \"\"\"position_history.csvファイル用のDataLoader\"\"\"\n",
        "\n",
        "    def __init__(self, file_path: str = \"position_history.csv\"):\n",
        "        super().__init__()\n",
        "        self.file_path = file_path\n",
        "        self.df = pl.read_csv(self.file_path)\n",
        "\n",
        "        column_mapping = {\n",
        "            \"社員番号\": \"employee_id\",\n",
        "            \"year\": \"year\",\n",
        "            \"勤務区分\": \"work_category\",\n",
        "            \"役職\": \"position\"\n",
        "        }\n",
        "\n",
        "        self.df = self.df.rename(column_mapping)\n",
        "\n",
        "        self.df = self.df.with_columns(\n",
        "            pl.col(\"work_category\").map_batches(LabelEncoder().fit_transform)\n",
        "        )\n",
        "\n",
        "        self.df = self.df.with_columns(\n",
        "            pl.col(\"position\").map_batches(LabelEncoder().fit_transform)\n",
        "        )\n",
        "\n",
        "    def get(self):\n",
        "        return self.df"
      ],
      "metadata": {
        "id": "EPwvCuZvbkhE"
      },
      "execution_count": 14,
      "outputs": []
    },
    {
      "cell_type": "code",
      "source": [
        "class UdemyActivityLoader(DataLoader):\n",
        "    \"\"\"udemy_activity.csvファイル用のDataLoader\"\"\"\n",
        "\n",
        "    def __init__(self, file_path: str = \"udemy_activity.csv\"):\n",
        "        super().__init__()\n",
        "        self.file_path = file_path\n",
        "        self.df = pl.read_csv(self.file_path)\n",
        "\n",
        "        column_mapping = {\n",
        "            \"社員番号\": \"employee_id\",\n",
        "            \"コースID\": \"course_id\",\n",
        "            \"コースタイトル\": \"course_title\",\n",
        "            \"レクチャーもしくはクイズ\": \"lecture_or_quiz\",\n",
        "            \"レクチャー/クイズID\": \"lecture_or_quiz_id\",\n",
        "            \"レクチャー/クイズの題名\": \"lecture_or_quiz_title\",\n",
        "            \"開始日\": \"start_date\",\n",
        "            \"終了日\": \"end_date\",\n",
        "            \"推定完了率%\": \"estimated_completion_rate_percent\",\n",
        "            \"最終結果（クイズの場合）\": \"final_result_if_quiz\",\n",
        "            \"マーク済み修了\": \"marked_as_completed\",\n",
        "            \"コースカテゴリー\": \"course_category\",\n",
        "        }\n",
        "\n",
        "        self.df = self.df.rename(column_mapping)\n",
        "\n",
        "        # カテゴリ変数\n",
        "        self.df = self.df.with_columns(\n",
        "            pl.col(\"lecture_or_quiz_id\").cast(pl.Utf8).cast(pl.Utf8)\n",
        "        )\n",
        "\n",
        "        self.df = self.df.with_columns(\n",
        "            [\n",
        "                pl.coalesce(\n",
        "                    [\n",
        "                        pl.col(\"start_date\").str.strptime(\n",
        "                            pl.Datetime, \"%Y/%m/%d %H:%M\", strict=False\n",
        "                        )\n",
        "                    ]\n",
        "                )\n",
        "            ]\n",
        "        ).with_columns(\n",
        "            [\n",
        "                pl.coalesce(\n",
        "                    [\n",
        "                        pl.col(\"end_date\").str.strptime(\n",
        "                            pl.Datetime, \"%Y/%m/%d %H:%M\", strict=False\n",
        "                        )\n",
        "                    ]\n",
        "                )\n",
        "            ]\n",
        "        )\n",
        "\n",
        "        self.df = self.df.with_columns(\n",
        "            pl.col(\"course_title\").map_batches(LabelEncoder().fit_transform)\n",
        "        )\n",
        "\n",
        "        self.df = self.df.with_columns(\n",
        "            pl.col(\"lecture_or_quiz_title\").map_batches(LabelEncoder().fit_transform)\n",
        "        )\n",
        "\n",
        "        self.df = self.df.with_columns(\n",
        "            pl.col(\"course_category\").map_batches(LabelEncoder().fit_transform)\n",
        "        )\n",
        "\n",
        "    def get(self):\n",
        "        return self.df"
      ],
      "metadata": {
        "id": "-PBNkvR2bn7b"
      },
      "execution_count": 15,
      "outputs": []
    },
    {
      "cell_type": "code",
      "source": [
        "# Load\n",
        "train = TrainLoader(DATA_DIR + \"train.csv\").get()\n",
        "test = TestLoader(DATA_DIR + \"test.csv\").get()\n",
        "career = CareerLoader(DATA_DIR + \"career.csv\").get()\n",
        "dx = DXLoader(DATA_DIR + \"dx.csv\").get()\n",
        "hr = HRLoader(DATA_DIR + \"hr.csv\").get()\n",
        "overtime_work = OvertimeWorkLoader(DATA_DIR + \"overtime_work_by_month.csv\").get()\n",
        "position_history = PositionHistoryLoader(DATA_DIR + \"position_history.csv\").get()\n",
        "udemy_activity = UdemyActivityLoader(DATA_DIR + \"udemy_activity.csv\").get()"
      ],
      "metadata": {
        "id": "VbpVCE8uaema"
      },
      "execution_count": 16,
      "outputs": []
    },
    {
      "cell_type": "code",
      "source": [
        "udemy_activity"
      ],
      "metadata": {
        "colab": {
          "base_uri": "https://localhost:8080/",
          "height": 637
        },
        "id": "fl3aUwXJb-qy",
        "outputId": "5d7a6e38-aa49-4403-b2dc-1ee4ba0f9e37"
      },
      "execution_count": 17,
      "outputs": [
        {
          "output_type": "execute_result",
          "data": {
            "text/plain": [
              "shape: (539_164, 12)\n",
              "┌───────────┬───────────┬───────────┬───────────┬───┬───────────┬───────────┬───────────┬──────────┐\n",
              "│ employee_ ┆ course_id ┆ course_ti ┆ lecture_o ┆ … ┆ estimated ┆ final_res ┆ marked_as ┆ course_c │\n",
              "│ id        ┆ ---       ┆ tle       ┆ r_quiz    ┆   ┆ _completi ┆ ult_if_qu ┆ _complete ┆ ategory  │\n",
              "│ ---       ┆ i64       ┆ ---       ┆ ---       ┆   ┆ on_rate_p ┆ iz        ┆ d         ┆ ---      │\n",
              "│ str       ┆           ┆ i64       ┆ str       ┆   ┆ erc…      ┆ ---       ┆ ---       ┆ i64      │\n",
              "│           ┆           ┆           ┆           ┆   ┆ ---       ┆ f64       ┆ bool      ┆          │\n",
              "│           ┆           ┆           ┆           ┆   ┆ f64       ┆           ┆           ┆          │\n",
              "╞═══════════╪═══════════╪═══════════╪═══════════╪═══╪═══════════╪═══════════╪═══════════╪══════════╡\n",
              "│ -1sqs0GXz ┆ 4615016   ┆ 3012      ┆ Quiz      ┆ … ┆ 100.0     ┆ 0.0       ┆ true      ┆ 270      │\n",
              "│ pPJuAVKHU ┆           ┆           ┆           ┆   ┆           ┆           ┆           ┆          │\n",
              "│ UFgg==    ┆           ┆           ┆           ┆   ┆           ┆           ┆           ┆          │\n",
              "│ -1sqs0GXz ┆ 4615016   ┆ 3012      ┆ Quiz      ┆ … ┆ 100.0     ┆ 100.0     ┆ true      ┆ 270      │\n",
              "│ pPJuAVKHU ┆           ┆           ┆           ┆   ┆           ┆           ┆           ┆          │\n",
              "│ UFgg==    ┆           ┆           ┆           ┆   ┆           ┆           ┆           ┆          │\n",
              "│ -1sqs0GXz ┆ 4615016   ┆ 3012      ┆ Quiz      ┆ … ┆ 100.0     ┆ 0.0       ┆ true      ┆ 270      │\n",
              "│ pPJuAVKHU ┆           ┆           ┆           ┆   ┆           ┆           ┆           ┆          │\n",
              "│ UFgg==    ┆           ┆           ┆           ┆   ┆           ┆           ┆           ┆          │\n",
              "│ -1sqs0GXz ┆ 4615016   ┆ 3012      ┆ Quiz      ┆ … ┆ 100.0     ┆ 100.0     ┆ true      ┆ 270      │\n",
              "│ pPJuAVKHU ┆           ┆           ┆           ┆   ┆           ┆           ┆           ┆          │\n",
              "│ UFgg==    ┆           ┆           ┆           ┆   ┆           ┆           ┆           ┆          │\n",
              "│ -1sqs0GXz ┆ 4615016   ┆ 3012      ┆ Quiz      ┆ … ┆ 100.0     ┆ 100.0     ┆ true      ┆ 270      │\n",
              "│ pPJuAVKHU ┆           ┆           ┆           ┆   ┆           ┆           ┆           ┆          │\n",
              "│ UFgg==    ┆           ┆           ┆           ┆   ┆           ┆           ┆           ┆          │\n",
              "│ …         ┆ …         ┆ …         ┆ …         ┆ … ┆ …         ┆ …         ┆ …         ┆ …        │\n",
              "│ zxY0Eflwm ┆ 5264112   ┆ 3012      ┆ Video_lec ┆ … ┆ 100.0     ┆ null      ┆ true      ┆ 270      │\n",
              "│ 1tYj1Wt6v ┆           ┆           ┆ ture      ┆   ┆           ┆           ┆           ┆          │\n",
              "│ o_1g==    ┆           ┆           ┆           ┆   ┆           ┆           ┆           ┆          │\n",
              "│ zxY0Eflwm ┆ 5264112   ┆ 3012      ┆ Video_lec ┆ … ┆ 100.0     ┆ null      ┆ true      ┆ 270      │\n",
              "│ 1tYj1Wt6v ┆           ┆           ┆ ture      ┆   ┆           ┆           ┆           ┆          │\n",
              "│ o_1g==    ┆           ┆           ┆           ┆   ┆           ┆           ┆           ┆          │\n",
              "│ zxY0Eflwm ┆ 6098315   ┆ 3012      ┆ Video_lec ┆ … ┆ 100.0     ┆ null      ┆ true      ┆ 270      │\n",
              "│ 1tYj1Wt6v ┆           ┆           ┆ ture      ┆   ┆           ┆           ┆           ┆          │\n",
              "│ o_1g==    ┆           ┆           ┆           ┆   ┆           ┆           ┆           ┆          │\n",
              "│ zxY0Eflwm ┆ 6106205   ┆ 3012      ┆ Video_lec ┆ … ┆ 100.0     ┆ null      ┆ true      ┆ 270      │\n",
              "│ 1tYj1Wt6v ┆           ┆           ┆ ture      ┆   ┆           ┆           ┆           ┆          │\n",
              "│ o_1g==    ┆           ┆           ┆           ┆   ┆           ┆           ┆           ┆          │\n",
              "│ zxY0Eflwm ┆ 6169093   ┆ 3012      ┆ Video_lec ┆ … ┆ 100.0     ┆ null      ┆ true      ┆ 270      │\n",
              "│ 1tYj1Wt6v ┆           ┆           ┆ ture      ┆   ┆           ┆           ┆           ┆          │\n",
              "│ o_1g==    ┆           ┆           ┆           ┆   ┆           ┆           ┆           ┆          │\n",
              "└───────────┴───────────┴───────────┴───────────┴───┴───────────┴───────────┴───────────┴──────────┘"
            ],
            "text/html": [
              "<div><style>\n",
              ".dataframe > thead > tr,\n",
              ".dataframe > tbody > tr {\n",
              "  text-align: right;\n",
              "  white-space: pre-wrap;\n",
              "}\n",
              "</style>\n",
              "<small>shape: (539_164, 12)</small><table border=\"1\" class=\"dataframe\"><thead><tr><th>employee_id</th><th>course_id</th><th>course_title</th><th>lecture_or_quiz</th><th>lecture_or_quiz_id</th><th>lecture_or_quiz_title</th><th>start_date</th><th>end_date</th><th>estimated_completion_rate_percent</th><th>final_result_if_quiz</th><th>marked_as_completed</th><th>course_category</th></tr><tr><td>str</td><td>i64</td><td>i64</td><td>str</td><td>str</td><td>i64</td><td>datetime[μs]</td><td>datetime[μs]</td><td>f64</td><td>f64</td><td>bool</td><td>i64</td></tr></thead><tbody><tr><td>&quot;-1sqs0GXzpPJuAVKHUUFgg==&quot;</td><td>4615016</td><td>3012</td><td>&quot;Quiz&quot;</td><td>&quot;5528090&quot;</td><td>62746</td><td>2022-04-11 10:10:00</td><td>2022-04-11 10:10:00</td><td>100.0</td><td>0.0</td><td>true</td><td>270</td></tr><tr><td>&quot;-1sqs0GXzpPJuAVKHUUFgg==&quot;</td><td>4615016</td><td>3012</td><td>&quot;Quiz&quot;</td><td>&quot;5528090&quot;</td><td>62746</td><td>2022-04-11 10:11:00</td><td>2022-04-11 10:11:00</td><td>100.0</td><td>100.0</td><td>true</td><td>270</td></tr><tr><td>&quot;-1sqs0GXzpPJuAVKHUUFgg==&quot;</td><td>4615016</td><td>3012</td><td>&quot;Quiz&quot;</td><td>&quot;5528100&quot;</td><td>62746</td><td>2022-04-11 10:26:00</td><td>2022-04-11 10:26:00</td><td>100.0</td><td>0.0</td><td>true</td><td>270</td></tr><tr><td>&quot;-1sqs0GXzpPJuAVKHUUFgg==&quot;</td><td>4615016</td><td>3012</td><td>&quot;Quiz&quot;</td><td>&quot;5528100&quot;</td><td>62746</td><td>2022-04-11 10:27:00</td><td>2022-04-11 10:27:00</td><td>100.0</td><td>100.0</td><td>true</td><td>270</td></tr><tr><td>&quot;-1sqs0GXzpPJuAVKHUUFgg==&quot;</td><td>4615016</td><td>3012</td><td>&quot;Quiz&quot;</td><td>&quot;5528102&quot;</td><td>62746</td><td>2022-04-11 10:21:00</td><td>2022-04-11 10:21:00</td><td>100.0</td><td>100.0</td><td>true</td><td>270</td></tr><tr><td>&hellip;</td><td>&hellip;</td><td>&hellip;</td><td>&hellip;</td><td>&hellip;</td><td>&hellip;</td><td>&hellip;</td><td>&hellip;</td><td>&hellip;</td><td>&hellip;</td><td>&hellip;</td><td>&hellip;</td></tr><tr><td>&quot;zxY0Eflwm1tYj1Wt6vo_1g==&quot;</td><td>5264112</td><td>3012</td><td>&quot;Video_lecture&quot;</td><td>&quot;37311144&quot;</td><td>62746</td><td>2023-06-14 09:56:00</td><td>2023-06-14 09:56:00</td><td>100.0</td><td>null</td><td>true</td><td>270</td></tr><tr><td>&quot;zxY0Eflwm1tYj1Wt6vo_1g==&quot;</td><td>5264112</td><td>3012</td><td>&quot;Video_lecture&quot;</td><td>&quot;37311150&quot;</td><td>62746</td><td>2023-06-14 09:57:00</td><td>2023-06-14 09:57:00</td><td>100.0</td><td>null</td><td>true</td><td>270</td></tr><tr><td>&quot;zxY0Eflwm1tYj1Wt6vo_1g==&quot;</td><td>6098315</td><td>3012</td><td>&quot;Video_lecture&quot;</td><td>&quot;45012691&quot;</td><td>62746</td><td>2024-09-27 15:39:00</td><td>2024-09-27 16:17:00</td><td>100.0</td><td>null</td><td>true</td><td>270</td></tr><tr><td>&quot;zxY0Eflwm1tYj1Wt6vo_1g==&quot;</td><td>6106205</td><td>3012</td><td>&quot;Video_lecture&quot;</td><td>&quot;45088199&quot;</td><td>62746</td><td>2024-12-16 16:21:00</td><td>2024-12-16 17:39:00</td><td>100.0</td><td>null</td><td>true</td><td>270</td></tr><tr><td>&quot;zxY0Eflwm1tYj1Wt6vo_1g==&quot;</td><td>6169093</td><td>3012</td><td>&quot;Video_lecture&quot;</td><td>&quot;45683413&quot;</td><td>62746</td><td>2024-09-27 16:21:00</td><td>2024-09-27 17:39:00</td><td>100.0</td><td>null</td><td>true</td><td>270</td></tr></tbody></table></div>"
            ]
          },
          "metadata": {},
          "execution_count": 17
        }
      ]
    },
    {
      "cell_type": "markdown",
      "source": [
        "## 特徴量の作成"
      ],
      "metadata": {
        "id": "XPDJoRnWX1RJ"
      }
    },
    {
      "cell_type": "code",
      "source": [
        "# input session\n",
        "def attach_fold(df) -> pl.DataFrame:\n",
        "\n",
        "  # どのfoldも同じくらいpositive例が出現するようにstratifiedにする\n",
        "  sgkf = StratifiedGroupKFold(n_splits=CFG.N_SPLIT)\n",
        "\n",
        "  folds = [\n",
        "      df[test_index].select(\"employee_id\").with_columns(\n",
        "          pl.lit(i).alias(\"fold\")\n",
        "      ) for i, (train_index, test_index) in enumerate(sgkf.split(df, df[\"target\"], df[\"employee_id\"]))\n",
        "  ]\n",
        "\n",
        "  return df.join(pl.concat(folds), on=\"employee_id\", how=\"left\")\n",
        "\n",
        "train = attach_fold(train)"
      ],
      "metadata": {
        "id": "fun5j4e2fKCh"
      },
      "execution_count": 18,
      "outputs": []
    },
    {
      "cell_type": "markdown",
      "source": [
        "### dx"
      ],
      "metadata": {
        "id": "MLsflsybfPRv"
      }
    },
    {
      "cell_type": "code",
      "source": [
        "dx_training_category = dx[[\"employee_id\", \"training_category\", \"training_date\"]].pivot(\"training_category\", index=\"employee_id\", aggregate_function=\"len\")\n",
        "prefix = \"dx_training_category_\"\n",
        "dx_training_category = dx_training_category.rename({col: prefix + col for col in dx_training_category.columns if col != \"employee_id\"})\n",
        "\n",
        "dx_training_name = dx[[\"employee_id\", \"training_name\", \"training_date\"]].pivot(\"training_name\", index=\"employee_id\", aggregate_function=\"len\")\n",
        "prefix = \"dx_training_name_\"\n",
        "dx_training_name = dx_training_name.rename({col: prefix + col for col in dx_training_name.columns if col != \"employee_id\"})"
      ],
      "metadata": {
        "id": "SP-M5ZevfQnR"
      },
      "execution_count": 19,
      "outputs": []
    },
    {
      "cell_type": "markdown",
      "source": [
        "### hr"
      ],
      "metadata": {
        "id": "DcPhFeKqfX9g"
      }
    },
    {
      "cell_type": "code",
      "source": [
        "hr_training_category = hr[[\"employee_id\", \"hr_training_category\", \"hr_training_date\"]].pivot(\"hr_training_category\", index=\"employee_id\", aggregate_function=\"len\")\n",
        "prefix = \"hr_training_category_\"\n",
        "hr_training_category = hr_training_category.rename({col: prefix + col for col in hr_training_category.columns if col != \"employee_id\"})\n",
        "\n",
        "hr_training_name = hr[[\"employee_id\", \"hr_training_name\", \"hr_training_date\"]].pivot(\"hr_training_name\", index=\"employee_id\", aggregate_function=\"len\")\n",
        "prefix = \"hr_training_name_\"\n",
        "hr_training_name = hr_training_name.rename({col: prefix + col for col in hr_training_name.columns if col != \"employee_id\"})"
      ],
      "metadata": {
        "id": "8Hg9JxVNfZMM"
      },
      "execution_count": 20,
      "outputs": []
    },
    {
      "cell_type": "markdown",
      "source": [
        "### udemy_activity"
      ],
      "metadata": {
        "id": "FkaOGtl0fk_1"
      }
    },
    {
      "cell_type": "code",
      "source": [
        "udemy_activity_numerical = udemy_activity.group_by(\"employee_id\").agg([\n",
        "  # estimated_completion_rate_percent\n",
        "  pl.col(\"estimated_completion_rate_percent\").mean().alias(\"estimated_completion_rate_percent_mean\"),\n",
        "  pl.col(\"estimated_completion_rate_percent\").min().alias(\"estimated_completion_rate_percent_min\"),\n",
        "  pl.col(\"estimated_completion_rate_percent\").max().alias(\"estimated_completion_rate_percent_max\"),\n",
        "  pl.col(\"estimated_completion_rate_percent\").std().alias(\"estimated_completion_rate_percent_std\"),\n",
        "  pl.col(\"estimated_completion_rate_percent\").count().alias(\"estimated_completion_rate_percent_count\"),\n",
        "\n",
        "  # final_result_if_quiz\n",
        "  pl.col(\"final_result_if_quiz\").mean().alias(\"final_result_if_quiz_mean\"),\n",
        "  pl.col(\"final_result_if_quiz\").min().alias(\"final_result_if_quiz_min\"),\n",
        "  pl.col(\"final_result_if_quiz\").max().alias(\"final_result_if_quiz_max\"),\n",
        "  pl.col(\"final_result_if_quiz\").std().alias(\"final_result_if_quiz_std\"),\n",
        "  pl.col(\"final_result_if_quiz\").count().alias(\"final_result_if_quiz_count\"),\n",
        "\n",
        "  # marked_as_completed\n",
        "  pl.col(\"marked_as_completed\").mean().alias(\"marked_as_completed_mean\"),\n",
        "  pl.col(\"marked_as_completed\").min().alias(\"marked_as_completed_min\"),\n",
        "  pl.col(\"marked_as_completed\").max().alias(\"marked_as_completed_max\"),\n",
        "  pl.col(\"marked_as_completed\").std().alias(\"marked_as_completed_std\"),\n",
        "  pl.col(\"marked_as_completed\").count().alias(\"marked_as_completed_count\"),\n",
        "])\n",
        "\n",
        "\n",
        "udemy_activity_course_category = udemy_activity[[\"employee_id\", \"course_category\", \"start_date\"]].pivot(\"course_category\", index=\"employee_id\", aggregate_function=\"len\")\n",
        "prefix = \"udemy_activity_course_category_\"\n",
        "udemy_activity_course_category = udemy_activity_course_category.rename({col: prefix + col for col in udemy_activity_course_category.columns if col != \"employee_id\"})\n",
        "\n",
        "\n",
        "udemy_activity_lecture_or_quiz = udemy_activity[[\"employee_id\", \"lecture_or_quiz\", \"start_date\"]].pivot(\"lecture_or_quiz\", index=\"employee_id\", aggregate_function=\"len\")\n",
        "prefix = \"udemy_activity_lecture_or_quiz_\"\n",
        "udemy_activity_lecture_or_quiz = udemy_activity_lecture_or_quiz.rename({col: prefix + col for col in udemy_activity_lecture_or_quiz.columns if col != \"employee_id\"})\n",
        "\n",
        "\n",
        "# udemy_activity_course_id = udemy_activity[[\"employee_id\", \"course_id\", \"start_date\"]].pivot(\"course_id\", index=\"employee_id\", aggregate_function=\"len\")"
      ],
      "metadata": {
        "id": "BSeTWZZIfnqp"
      },
      "execution_count": 21,
      "outputs": []
    },
    {
      "cell_type": "markdown",
      "source": [
        "### career"
      ],
      "metadata": {
        "id": "8ECDKCuPZhB5"
      }
    },
    {
      "cell_type": "markdown",
      "source": [
        "### position_history"
      ],
      "metadata": {
        "id": "_61deROwY0Uq"
      }
    },
    {
      "cell_type": "code",
      "source": [
        "position_history_work_category = position_history[[\"employee_id\", \"work_category\", \"year\"]].pivot(\"work_category\", index=\"employee_id\", aggregate_function=\"len\")\n",
        "prefix = \"position_history_work_category_\"\n",
        "position_history_work_category = position_history_work_category.rename({col: prefix + col for col in position_history_work_category.columns if col != \"employee_id\"})\n",
        "\n",
        "position_history_position = position_history[[\"employee_id\", \"position\", \"year\"]].pivot(\"position\", index=\"employee_id\", aggregate_function=\"len\")\n",
        "prefix = \"position_history_position_\"\n",
        "position_history_position = position_history_position.rename({col: prefix + col for col in position_history_position.columns if col != \"employee_id\"})"
      ],
      "metadata": {
        "id": "1YZ4MkbmY88e"
      },
      "execution_count": 22,
      "outputs": []
    },
    {
      "cell_type": "markdown",
      "source": [
        "### overtime_work_by_month"
      ],
      "metadata": {
        "id": "SJIkra9LY9zs"
      }
    },
    {
      "cell_type": "code",
      "source": [
        "overtime_work = overtime_work.group_by(\"employee_id\").agg([\n",
        "  pl.col(\"hours\").mean().alias(\"hours_mean\"),\n",
        "  pl.col(\"hours\").min().alias(\"hours_min\"),\n",
        "  pl.col(\"hours\").max().alias(\"hours_max\"),\n",
        "  pl.col(\"hours\").std().alias(\"hours_std\"),\n",
        "  pl.col(\"hours\").count().alias(\"hours_count\"),\n",
        "])"
      ],
      "metadata": {
        "id": "3P2FrR7oZFWW"
      },
      "execution_count": 23,
      "outputs": []
    },
    {
      "cell_type": "markdown",
      "source": [
        "### データのマージ"
      ],
      "metadata": {
        "id": "iSBLNY0aZJfe"
      }
    },
    {
      "cell_type": "code",
      "source": [
        "train_df = train.join(\n",
        "    career, on=\"employee_id\", how=\"left\"\n",
        ").join(\n",
        "    dx_training_category, on=\"employee_id\", how=\"left\"\n",
        ").join(\n",
        "    dx_training_name, on=\"employee_id\", how=\"left\"\n",
        ").join(\n",
        "    hr_training_category, on=\"employee_id\", how=\"left\"\n",
        ").join(\n",
        "    hr_training_name, on=\"employee_id\", how=\"left\"\n",
        ").join(\n",
        "    overtime_work, on=\"employee_id\", how=\"left\"\n",
        ").join(\n",
        "    position_history_work_category, on=\"employee_id\", how=\"left\"\n",
        ").join(\n",
        "    position_history_position, on=\"employee_id\", how=\"left\"\n",
        ").join(\n",
        "    udemy_activity_numerical, on=\"employee_id\", how=\"left\"\n",
        ").join(\n",
        "    udemy_activity_course_category, on=\"employee_id\", how=\"left\"\n",
        ").join(\n",
        "    udemy_activity_lecture_or_quiz, on=\"employee_id\", how=\"left\"\n",
        "# ).join(\n",
        "#     udemy_activity_course_id, on=\"employee_id\", how=\"left\"\n",
        ")\n",
        "\n",
        "assert len(train) == len(train_df)"
      ],
      "metadata": {
        "id": "I0grqmzbrCzE"
      },
      "execution_count": 25,
      "outputs": []
    },
    {
      "cell_type": "code",
      "source": [
        "test_df = test.join(\n",
        "    career, on=\"employee_id\", how=\"left\"\n",
        ").join(\n",
        "    dx_training_category, on=\"employee_id\", how=\"left\"\n",
        ").join(\n",
        "    dx_training_name, on=\"employee_id\", how=\"left\"\n",
        ").join(\n",
        "    hr_training_category, on=\"employee_id\", how=\"left\"\n",
        ").join(\n",
        "    hr_training_name, on=\"employee_id\", how=\"left\"\n",
        ").join(\n",
        "    overtime_work, on=\"employee_id\", how=\"left\"\n",
        ").join(\n",
        "    position_history_work_category, on=\"employee_id\", how=\"left\"\n",
        ").join(\n",
        "    position_history_position, on=\"employee_id\", how=\"left\"\n",
        ").join(\n",
        "    udemy_activity_numerical, on=\"employee_id\", how=\"left\"\n",
        ").join(\n",
        "    udemy_activity_course_category, on=\"employee_id\", how=\"left\"\n",
        ").join(\n",
        "    udemy_activity_lecture_or_quiz, on=\"employee_id\", how=\"left\"\n",
        "# ).join(\n",
        "#     udemy_activity_course_id, on=\"employee_id\", how=\"left\"\n",
        ")\n",
        "\n",
        "assert len(test) == len(test_df)"
      ],
      "metadata": {
        "id": "AZoNbdzVf00i"
      },
      "execution_count": 27,
      "outputs": []
    },
    {
      "cell_type": "markdown",
      "source": [
        "PCA"
      ],
      "metadata": {
        "id": "9swQbCNeEsAO"
      }
    },
    {
      "cell_type": "code",
      "source": [
        "import polars as pl\n",
        "import numpy as np\n",
        "from sklearn.decomposition import PCA\n",
        "from sklearn.preprocessing import StandardScaler\n",
        "\n",
        "# この関数は、trainとtestのpolarsデータフレームと特徴量のリストを受け取ります\n",
        "def create_pca_features(train_df: pl.DataFrame, test_df: pl.DataFrame, feature_cols: list, n_components: int, prefix: str) -> tuple[pl.DataFrame, pl.DataFrame]:\n",
        "    \"\"\"\n",
        "    PCAを学習し、主成分と再構築誤差に関する特徴量を生成する関数。\n",
        "    データリークを防ぐため、fitはtrainデータのみで行い、transformはtrain/test両方に適用する。\n",
        "\n",
        "    Args:\n",
        "        train_df (pl.DataFrame): 学習用データフレーム\n",
        "        test_df (pl.DataFrame): テスト用データフレーム\n",
        "        feature_cols (list): PCAを適用する列名のリスト\n",
        "        n_components (int): 作成する主成分の数\n",
        "        prefix (str): 生成される列名につける接頭辞 (例: 'all_features')\n",
        "\n",
        "    Returns:\n",
        "        tuple: (train_df_out, test_df_out) PCA特徴量が追加されたデータフレーム\n",
        "    \"\"\"\n",
        "\n",
        "    print(f\"--- Processing PCA for '{prefix}' features ---\")\n",
        "\n",
        "    # 1. 欠損値と無限大を0で埋める\n",
        "    train_features_filled = train_df.select(feature_cols).fill_null(0)\n",
        "    test_features_filled = test_df.select(feature_cols).fill_null(0)\n",
        "\n",
        "    float_cols = [c for c in feature_cols if train_features_filled[c].dtype in [pl.Float32, pl.Float64]]\n",
        "\n",
        "    train_features = train_features_filled.with_columns(\n",
        "        pl.when(pl.col(c).is_infinite()).then(0).otherwise(pl.col(c)).alias(c)\n",
        "        for c in float_cols\n",
        "    )\n",
        "    test_features = test_features_filled.with_columns(\n",
        "        pl.when(pl.col(c).is_infinite()).then(0).otherwise(pl.col(c)).alias(c)\n",
        "        for c in float_cols\n",
        "    )\n",
        "\n",
        "    # 2. スケーラーとPCAのインスタンスを作成\n",
        "    scaler = StandardScaler()\n",
        "    pca = PCA(n_components=n_components, random_state=42)\n",
        "\n",
        "    # 3. trainデータのみでスケーラーとPCAを学習(fit)し、変換(transform)する\n",
        "    train_scaled = scaler.fit_transform(train_features.to_numpy())\n",
        "    train_pca = pca.fit_transform(train_scaled)\n",
        "\n",
        "    # --- ↓↓↓ ここに寄与率を表示するコードを追加しました ↓↓↓ ---\n",
        "    print(f\"寄与率 (Explained Variance Ratio): {pca.explained_variance_ratio_}\")\n",
        "    print(f\"累積寄与率 (Cumulative Explained Variance): {np.cumsum(pca.explained_variance_ratio_)}\")\n",
        "    # ---------------------------------------------------------\n",
        "\n",
        "    # 4. 学習済みのモデルを使って、testデータを変換(transform)する\n",
        "    test_scaled = scaler.transform(test_features.to_numpy())\n",
        "    test_pca = pca.transform(test_scaled)\n",
        "\n",
        "    # 5. 主成分をpolars DataFrameに変換\n",
        "    pc_cols = [f'pca_{prefix}_{i+1}' for i in range(n_components)]\n",
        "    train_pca_df = pl.DataFrame(train_pca, schema=pc_cols)\n",
        "    test_pca_df = pl.DataFrame(test_pca, schema=pc_cols)\n",
        "\n",
        "    # 6. PCAで変換したデータを元の次元に逆変換（再構築）\n",
        "    train_reconstructed = pca.inverse_transform(train_pca)\n",
        "    test_reconstructed = pca.inverse_transform(test_pca)\n",
        "\n",
        "    # 7. 再構築誤差に関する特徴量を計算\n",
        "    train_cossim = np.array([\n",
        "        np.dot(orig, recon) / (np.linalg.norm(orig) * np.linalg.norm(recon)) if (np.linalg.norm(orig) * np.linalg.norm(recon)) > 0 else 0\n",
        "        for orig, recon in zip(train_scaled, train_reconstructed)\n",
        "    ])\n",
        "    test_cossim = np.array([\n",
        "        np.dot(orig, recon) / (np.linalg.norm(orig) * np.linalg.norm(recon)) if (np.linalg.norm(orig) * np.linalg.norm(recon)) > 0 else 0\n",
        "        for orig, recon in zip(test_scaled, test_reconstructed)\n",
        "    ])\n",
        "\n",
        "    train_norm_ratio = np.array([\n",
        "        np.linalg.norm(recon) / np.linalg.norm(orig) if np.linalg.norm(orig) > 0 else 0\n",
        "        for orig, recon in zip(train_scaled, train_reconstructed)\n",
        "    ])\n",
        "    test_norm_ratio = np.array([\n",
        "        np.linalg.norm(recon) / np.linalg.norm(orig) if np.linalg.norm(orig) > 0 else 0\n",
        "        for orig, recon in zip(test_scaled, test_reconstructed)\n",
        "    ])\n",
        "\n",
        "    # 8. 元のDataFrameに新しい特徴量を結合\n",
        "    train_df_out = train_df.with_columns(\n",
        "        pl.lit(train_cossim).alias(f'{prefix}_pca_cossim'),\n",
        "        pl.lit(train_norm_ratio).alias(f'{prefix}_pca_norm_ratio')\n",
        "    )\n",
        "    train_df_out = pl.concat([train_df_out, train_pca_df], how=\"horizontal\")\n",
        "\n",
        "    test_df_out = test_df.with_columns(\n",
        "        pl.lit(test_cossim).alias(f'{prefix}_pca_cossim'),\n",
        "        pl.lit(test_norm_ratio).alias(f'{prefix}_pca_norm_ratio')\n",
        "    )\n",
        "    test_df_out = pl.concat([test_df_out, test_pca_df], how=\"horizontal\")\n",
        "\n",
        "    return train_df_out, test_df_out\n"
      ],
      "metadata": {
        "id": "kI3LWHQlEfwr"
      },
      "execution_count": 28,
      "outputs": []
    },
    {
      "cell_type": "code",
      "source": [
        "# --- 関数の実行例 ---\n",
        "# 1. 全結合済みのtrain_df, test_dfから、PCAにかけたい数値特徴量のリストを作成する\n",
        "#    (IDやtarget、カテゴリ変数などを除外する)\n",
        "all_numerical_features = [col for col in train_df.columns if train_df[col].dtype != pl.Object and col not in ['employee_id', 'target', 'fold', 'category', 'marked_as_completed_min', 'marked_as_completed_max']]\n",
        "\n",
        "# 2. 作成したリストを使って、一度にPCA特徴量を生成する\n",
        "train_df, test_df = create_pca_features(train_df, test_df, all_numerical_features, n_components=200, prefix='all')\n",
        "\n",
        "# print(\"PCA特徴量の作成が完了しました。\")\n",
        "print(train_df.head())\n"
      ],
      "metadata": {
        "colab": {
          "base_uri": "https://localhost:8080/"
        },
        "id": "yeUNUdzWExkn",
        "outputId": "6fb562a7-b212-4253-eab6-53f54aca5377"
      },
      "execution_count": 29,
      "outputs": [
        {
          "output_type": "stream",
          "name": "stdout",
          "text": [
            "--- Processing PCA for 'all' features ---\n",
            "寄与率 (Explained Variance Ratio): [0.09624064 0.04237172 0.03683767 0.03006218 0.01823036 0.01505148\n",
            " 0.01438556 0.01333695 0.01209922 0.01165888 0.01142112 0.01097902\n",
            " 0.01037527 0.00965797 0.00938498 0.00899436 0.00882213 0.00853642\n",
            " 0.00847996 0.00810864 0.00790276 0.00757929 0.00735389 0.00726259\n",
            " 0.00720025 0.00700961 0.00687256 0.00675467 0.00657184 0.00641038\n",
            " 0.00627491 0.00612582 0.00608408 0.00597286 0.00585027 0.00580199\n",
            " 0.00574365 0.00562519 0.00556016 0.00548472 0.00543306 0.00528433\n",
            " 0.00521453 0.00517929 0.00503583 0.00495065 0.00487549 0.00480556\n",
            " 0.00474012 0.00470107 0.00460059 0.00455215 0.00451369 0.00444965\n",
            " 0.00439931 0.00431521 0.0042932  0.0042406  0.00423169 0.00417736\n",
            " 0.00414092 0.0040978  0.00408536 0.00401057 0.00397737 0.00392137\n",
            " 0.00383114 0.00380587 0.00372652 0.0036826  0.0036554  0.00357142\n",
            " 0.00354955 0.00352706 0.00345576 0.00344633 0.00336224 0.00332473\n",
            " 0.00331969 0.00329098 0.00326608 0.00323678 0.00322442 0.00320574\n",
            " 0.00316784 0.00311423 0.00307002 0.00304144 0.00302609 0.00299389\n",
            " 0.00297439 0.00294694 0.00291654 0.00290958 0.00286229 0.00284444\n",
            " 0.00280906 0.00280585 0.00275691 0.00273797 0.00271597 0.00270017\n",
            " 0.0026834  0.0026374  0.00262557 0.00260253 0.0025841  0.00255824\n",
            " 0.00253847 0.00250565 0.00249622 0.00246562 0.00246353 0.00242374\n",
            " 0.00239021 0.00236998 0.00235862 0.00234307 0.00234033 0.00232288\n",
            " 0.00230868 0.00230118 0.00228249 0.00226977 0.00225322 0.00220915\n",
            " 0.00219827 0.00218155 0.00217105 0.00216792 0.0021563  0.00215276\n",
            " 0.00213724 0.0021212  0.00210515 0.00208603 0.00207315 0.00204518\n",
            " 0.00203412 0.00200874 0.00198889 0.00195995 0.00195692 0.00195388\n",
            " 0.00192498 0.00191847 0.00190606 0.00187889 0.00184768 0.00183869\n",
            " 0.001807   0.00179918 0.0017861  0.00177174 0.00175979 0.00174357\n",
            " 0.00172476 0.00172226 0.0017034  0.00168591 0.00166289 0.001647\n",
            " 0.00161844 0.00161055 0.00159364 0.00157089 0.00154912 0.00154739\n",
            " 0.00153054 0.00151908 0.00149681 0.00148761 0.0014623  0.00144327\n",
            " 0.00142918 0.00142479 0.0013953  0.00137843 0.00136292 0.00135302\n",
            " 0.0013343  0.00132045 0.00131243 0.00129931 0.00128351 0.00127705\n",
            " 0.00126779 0.00125526 0.00124843 0.00122067 0.00121244 0.00120371\n",
            " 0.00118366 0.00116712 0.00114767 0.00113545 0.00112037 0.00110951\n",
            " 0.00110243 0.00110038]\n",
            "累積寄与率 (Cumulative Explained Variance): [0.09624064 0.13861235 0.17545003 0.2055122  0.22374257 0.23879405\n",
            " 0.25317961 0.26651655 0.27861577 0.29027465 0.30169577 0.31267479\n",
            " 0.32305006 0.33270802 0.34209301 0.35108737 0.3599095  0.36844592\n",
            " 0.37692588 0.38503453 0.39293728 0.40051657 0.40787046 0.41513306\n",
            " 0.4223333  0.42934292 0.43621548 0.44297015 0.44954199 0.45595237\n",
            " 0.46222728 0.4683531  0.47443718 0.48041004 0.48626031 0.4920623\n",
            " 0.49780595 0.50343113 0.50899129 0.51447601 0.51990907 0.5251934\n",
            " 0.53040793 0.53558722 0.54062305 0.5455737  0.55044919 0.55525475\n",
            " 0.55999487 0.56469594 0.56929653 0.57384869 0.57836238 0.58281203\n",
            " 0.58721134 0.59152654 0.59581974 0.60006034 0.60429204 0.60846939\n",
            " 0.61261031 0.61670811 0.62079348 0.62480405 0.62878142 0.63270279\n",
            " 0.63653393 0.6403398  0.64406632 0.64774893 0.65140432 0.65497574\n",
            " 0.65852529 0.66205234 0.6655081  0.66895443 0.67231667 0.6756414\n",
            " 0.67896109 0.68225206 0.68551814 0.68875492 0.69197934 0.69518508\n",
            " 0.69835291 0.70146714 0.70453716 0.7075786  0.71060469 0.71359858\n",
            " 0.71657298 0.71951991 0.72243645 0.72534604 0.72820833 0.73105277\n",
            " 0.73386183 0.73666768 0.73942459 0.74216257 0.74487854 0.74757871\n",
            " 0.75026212 0.75289952 0.75552509 0.75812762 0.76071173 0.76326997\n",
            " 0.76580845 0.76831409 0.77081031 0.77327593 0.77573946 0.7781632\n",
            " 0.78055341 0.78292338 0.785282   0.78762507 0.7899654  0.79228828\n",
            " 0.79459696 0.79689815 0.79918064 0.80145041 0.80370363 0.80591279\n",
            " 0.80811106 0.81029261 0.81246366 0.81463158 0.81678788 0.81894064\n",
            " 0.82107788 0.82319908 0.82530424 0.82739026 0.82946341 0.83150859\n",
            " 0.8335427  0.83555145 0.83754034 0.83950028 0.84145721 0.84341108\n",
            " 0.84533607 0.84725454 0.8491606  0.85103949 0.85288717 0.85472587\n",
            " 0.85653287 0.85833205 0.86011815 0.86188988 0.86364967 0.86539324\n",
            " 0.86711799 0.86884026 0.87054366 0.87222957 0.87389246 0.87553946\n",
            " 0.8771579  0.87876845 0.88036209 0.88193299 0.88348211 0.88502949\n",
            " 0.88656003 0.88807911 0.88957592 0.89106353 0.89252583 0.8939691\n",
            " 0.89539829 0.89682308 0.89821838 0.89959681 0.90095973 0.90231275\n",
            " 0.90364705 0.9049675  0.90627993 0.90757924 0.90886275 0.9101398\n",
            " 0.91140759 0.91266284 0.91391128 0.91513195 0.91634439 0.91754809\n",
            " 0.91873175 0.91989887 0.92104654 0.92218199 0.92330236 0.92441187\n",
            " 0.9255143  0.92661469]\n",
            "shape: (5, 734)\n",
            "┌─────────────┬────────────┬────────┬──────┬───┬────────────┬────────────┬────────────┬────────────┐\n",
            "│ employee_id ┆ category   ┆ target ┆ fold ┆ … ┆ pca_all_19 ┆ pca_all_19 ┆ pca_all_19 ┆ pca_all_20 │\n",
            "│ ---         ┆ ---        ┆ ---    ┆ ---  ┆   ┆ 7          ┆ 8          ┆ 9          ┆ 0          │\n",
            "│ str         ┆ str        ┆ i64    ┆ i32  ┆   ┆ ---        ┆ ---        ┆ ---        ┆ ---        │\n",
            "│             ┆            ┆        ┆      ┆   ┆ f64        ┆ f64        ┆ f64        ┆ f64        │\n",
            "╞═════════════╪════════════╪════════╪══════╪═══╪════════════╪════════════╪════════════╪════════════╡\n",
            "│ -2Sq3E0WkZj ┆ コンテンツ ┆ 0      ┆ 0    ┆ … ┆ 1.108054   ┆ 0.323599   ┆ 0.377569   ┆ -0.428513  │\n",
            "│ 8pL7jxdL3Cg ┆ ・サービス ┆        ┆      ┆   ┆            ┆            ┆            ┆            │\n",
            "│ ==          ┆ ・デザイン ┆        ┆      ┆   ┆            ┆            ┆            ┆            │\n",
            "│ -2Sq3E0WkZj ┆ コンテンツ ┆ 0      ┆ 0    ┆ … ┆ 1.108054   ┆ 0.323599   ┆ 0.377569   ┆ -0.428513  │\n",
            "│ 8pL7jxdL3Cg ┆ ・サービス ┆        ┆      ┆   ┆            ┆            ┆            ┆            │\n",
            "│ ==          ┆ ・デザイン ┆        ┆      ┆   ┆            ┆            ┆            ┆            │\n",
            "│ -2Sq3E0WkZj ┆ コンテンツ ┆ 0      ┆ 0    ┆ … ┆ 1.108054   ┆ 0.323599   ┆ 0.377569   ┆ -0.428513  │\n",
            "│ 8pL7jxdL3Cg ┆ ・サービス ┆        ┆      ┆   ┆            ┆            ┆            ┆            │\n",
            "│ ==          ┆ ・デザイン ┆        ┆      ┆   ┆            ┆            ┆            ┆            │\n",
            "│ -2Sq3E0WkZj ┆ コンテンツ ┆ 0      ┆ 0    ┆ … ┆ 1.108054   ┆ 0.323599   ┆ 0.377569   ┆ -0.428513  │\n",
            "│ 8pL7jxdL3Cg ┆ ・サービス ┆        ┆      ┆   ┆            ┆            ┆            ┆            │\n",
            "│ ==          ┆ ・デザイン ┆        ┆      ┆   ┆            ┆            ┆            ┆            │\n",
            "│ -2Sq3E0WkZj ┆ コンテンツ ┆ 0      ┆ 0    ┆ … ┆ 1.108054   ┆ 0.323599   ┆ 0.377569   ┆ -0.428513  │\n",
            "│ 8pL7jxdL3Cg ┆ ・サービス ┆        ┆      ┆   ┆            ┆            ┆            ┆            │\n",
            "│ ==          ┆ ・デザイン ┆        ┆      ┆   ┆            ┆            ┆            ┆            │\n",
            "└─────────────┴────────────┴────────┴──────┴───┴────────────┴────────────┴────────────┴────────────┘\n"
          ]
        }
      ]
    },
    {
      "cell_type": "code",
      "source": [
        "train_df = train_df.drop(all_numerical_features)"
      ],
      "metadata": {
        "id": "IKgv4X4iBQPA"
      },
      "execution_count": 30,
      "outputs": []
    },
    {
      "cell_type": "code",
      "source": [
        "test_df = test_df.drop(all_numerical_features)"
      ],
      "metadata": {
        "id": "_v8iiS0uBhtu"
      },
      "execution_count": 33,
      "outputs": []
    },
    {
      "cell_type": "code",
      "source": [
        "train_df.describe()"
      ],
      "metadata": {
        "id": "xwOdd_o5LJxL"
      },
      "execution_count": null,
      "outputs": []
    },
    {
      "cell_type": "code",
      "source": [
        "test_df.describe()"
      ],
      "metadata": {
        "colab": {
          "base_uri": "https://localhost:8080/",
          "height": 470
        },
        "id": "a5mcagyoLVJ5",
        "outputId": "c6e16b95-9619-4757-9084-86549dfba98d"
      },
      "execution_count": null,
      "outputs": [
        {
          "output_type": "execute_result",
          "data": {
            "text/plain": [
              "shape: (9, 633)\n",
              "┌───────────┬───────────┬───────────┬───────────┬───┬───────────┬───────────┬───────────┬──────────┐\n",
              "│ statistic ┆ employee_ ┆ category  ┆ found_str ┆ … ┆ pca_all_9 ┆ pca_all_9 ┆ pca_all_9 ┆ pca_all_ │\n",
              "│ ---       ┆ id        ┆ ---       ┆ engths    ┆   ┆ 7         ┆ 8         ┆ 9         ┆ 100      │\n",
              "│ str       ┆ ---       ┆ str       ┆ ---       ┆   ┆ ---       ┆ ---       ┆ ---       ┆ ---      │\n",
              "│           ┆ str       ┆           ┆ f64       ┆   ┆ f64       ┆ f64       ┆ f64       ┆ f64      │\n",
              "╞═══════════╪═══════════╪═══════════╪═══════════╪═══╪═══════════╪═══════════╪═══════════╪══════════╡\n",
              "│ count     ┆ 11022     ┆ 11022     ┆ 1272.0    ┆ … ┆ 11022.0   ┆ 11022.0   ┆ 11022.0   ┆ 11022.0  │\n",
              "│ null_coun ┆ 0         ┆ 0         ┆ 9750.0    ┆ … ┆ 0.0       ┆ 0.0       ┆ 0.0       ┆ 0.0      │\n",
              "│ t         ┆           ┆           ┆           ┆   ┆           ┆           ┆           ┆          │\n",
              "│ mean      ┆ null      ┆ null      ┆ 3.726415  ┆ … ┆ 0.010975  ┆ -0.091387 ┆ -0.030751 ┆ 0.019194 │\n",
              "│ std       ┆ null      ┆ null      ┆ 0.753065  ┆ … ┆ 3.159534  ┆ 2.875278  ┆ 5.090141  ┆ 3.059552 │\n",
              "│ min       ┆ -1sqs0GXz ┆ コンテン  ┆ 2.0       ┆ … ┆ -82.11707 ┆ -62.96232 ┆ -125.5323 ┆ -60.7633 │\n",
              "│           ┆ pPJuAVKHU ┆ ツ・サー  ┆           ┆   ┆ 1         ┆ 6         ┆ 33        ┆ 8        │\n",
              "│           ┆ UFgg==    ┆ ビス・デ  ┆           ┆   ┆           ┆           ┆           ┆          │\n",
              "│           ┆           ┆ ザイン    ┆           ┆   ┆           ┆           ┆           ┆          │\n",
              "│ 25%       ┆ null      ┆ null      ┆ 3.0       ┆ … ┆ -0.337078 ┆ -0.501706 ┆ -0.341471 ┆ -0.29220 │\n",
              "│           ┆           ┆           ┆           ┆   ┆           ┆           ┆           ┆ 9        │\n",
              "│ 50%       ┆ null      ┆ null      ┆ 4.0       ┆ … ┆ -0.002479 ┆ -0.017687 ┆ -0.002807 ┆ 0.020719 │\n",
              "│ 75%       ┆ null      ┆ null      ┆ 4.0       ┆ … ┆ 0.323356  ┆ 0.404552  ┆ 0.423489  ┆ 0.379502 │\n",
              "│ max       ┆ zxmtr2h4y ┆ 営業      ┆ 5.0       ┆ … ┆ 53.500431 ┆ 35.566087 ┆ 76.200725 ┆ 64.10798 │\n",
              "│           ┆ pvsNq02K9 ┆           ┆           ┆   ┆           ┆           ┆           ┆ 7        │\n",
              "│           ┆ AMJg==    ┆           ┆           ┆   ┆           ┆           ┆           ┆          │\n",
              "└───────────┴───────────┴───────────┴───────────┴───┴───────────┴───────────┴───────────┴──────────┘"
            ],
            "text/html": [
              "<div><style>\n",
              ".dataframe > thead > tr,\n",
              ".dataframe > tbody > tr {\n",
              "  text-align: right;\n",
              "  white-space: pre-wrap;\n",
              "}\n",
              "</style>\n",
              "<small>shape: (9, 633)</small><table border=\"1\" class=\"dataframe\"><thead><tr><th>statistic</th><th>employee_id</th><th>category</th><th>found_strengths</th><th>clear_job_interest</th><th>know_job_purpose</th><th>clear_career_goals</th><th>low_career_interest</th><th>strong_career_desire</th><th>career_design_important</th><th>not_thinking_future_career</th><th>career_satisfaction_my_responsibility</th><th>career_dev_my_responsibility</th><th>blame_env_for_unsat_career</th><th>career_shaped_by_env</th><th>adapt_new_env_quickly</th><th>respond_to_work_env_changes</th><th>show_self_in_new_workplace</th><th>adapt_to_work_changes</th><th>track_industry_trends</th><th>study_new_for_work</th><th>follow_social_econ_trends</th><th>learn_new_tech</th><th>build_relations_actively</th><th>interact_beyond_work</th><th>build_new_networks</th><th>improve_work_for_satisfaction</th><th>work_proactively</th><th>work_with_values</th><th>creative_work_planning</th><th>small_team_collab</th><th>integrate_team_ideas</th><th>oral_presentation</th><th>share_info_digitally</th><th>compare_views_find_solution</th><th>solve_ambiguous_problems</th><th>iterate_ideas_improve</th><th>&hellip;</th><th>pca_all_64</th><th>pca_all_65</th><th>pca_all_66</th><th>pca_all_67</th><th>pca_all_68</th><th>pca_all_69</th><th>pca_all_70</th><th>pca_all_71</th><th>pca_all_72</th><th>pca_all_73</th><th>pca_all_74</th><th>pca_all_75</th><th>pca_all_76</th><th>pca_all_77</th><th>pca_all_78</th><th>pca_all_79</th><th>pca_all_80</th><th>pca_all_81</th><th>pca_all_82</th><th>pca_all_83</th><th>pca_all_84</th><th>pca_all_85</th><th>pca_all_86</th><th>pca_all_87</th><th>pca_all_88</th><th>pca_all_89</th><th>pca_all_90</th><th>pca_all_91</th><th>pca_all_92</th><th>pca_all_93</th><th>pca_all_94</th><th>pca_all_95</th><th>pca_all_96</th><th>pca_all_97</th><th>pca_all_98</th><th>pca_all_99</th><th>pca_all_100</th></tr><tr><td>str</td><td>str</td><td>str</td><td>f64</td><td>f64</td><td>f64</td><td>f64</td><td>f64</td><td>f64</td><td>f64</td><td>f64</td><td>f64</td><td>f64</td><td>f64</td><td>f64</td><td>f64</td><td>f64</td><td>f64</td><td>f64</td><td>f64</td><td>f64</td><td>f64</td><td>f64</td><td>f64</td><td>f64</td><td>f64</td><td>f64</td><td>f64</td><td>f64</td><td>f64</td><td>f64</td><td>f64</td><td>f64</td><td>f64</td><td>f64</td><td>f64</td><td>f64</td><td>&hellip;</td><td>f64</td><td>f64</td><td>f64</td><td>f64</td><td>f64</td><td>f64</td><td>f64</td><td>f64</td><td>f64</td><td>f64</td><td>f64</td><td>f64</td><td>f64</td><td>f64</td><td>f64</td><td>f64</td><td>f64</td><td>f64</td><td>f64</td><td>f64</td><td>f64</td><td>f64</td><td>f64</td><td>f64</td><td>f64</td><td>f64</td><td>f64</td><td>f64</td><td>f64</td><td>f64</td><td>f64</td><td>f64</td><td>f64</td><td>f64</td><td>f64</td><td>f64</td><td>f64</td></tr></thead><tbody><tr><td>&quot;count&quot;</td><td>&quot;11022&quot;</td><td>&quot;11022&quot;</td><td>1272.0</td><td>1272.0</td><td>1272.0</td><td>1272.0</td><td>1272.0</td><td>1272.0</td><td>1272.0</td><td>1272.0</td><td>1272.0</td><td>1272.0</td><td>1272.0</td><td>1272.0</td><td>1272.0</td><td>1272.0</td><td>1272.0</td><td>1272.0</td><td>1272.0</td><td>1272.0</td><td>1272.0</td><td>1272.0</td><td>1272.0</td><td>1272.0</td><td>1272.0</td><td>1272.0</td><td>1272.0</td><td>1272.0</td><td>1272.0</td><td>1272.0</td><td>1272.0</td><td>1272.0</td><td>1272.0</td><td>1272.0</td><td>1272.0</td><td>1272.0</td><td>&hellip;</td><td>11022.0</td><td>11022.0</td><td>11022.0</td><td>11022.0</td><td>11022.0</td><td>11022.0</td><td>11022.0</td><td>11022.0</td><td>11022.0</td><td>11022.0</td><td>11022.0</td><td>11022.0</td><td>11022.0</td><td>11022.0</td><td>11022.0</td><td>11022.0</td><td>11022.0</td><td>11022.0</td><td>11022.0</td><td>11022.0</td><td>11022.0</td><td>11022.0</td><td>11022.0</td><td>11022.0</td><td>11022.0</td><td>11022.0</td><td>11022.0</td><td>11022.0</td><td>11022.0</td><td>11022.0</td><td>11022.0</td><td>11022.0</td><td>11022.0</td><td>11022.0</td><td>11022.0</td><td>11022.0</td><td>11022.0</td></tr><tr><td>&quot;null_count&quot;</td><td>&quot;0&quot;</td><td>&quot;0&quot;</td><td>9750.0</td><td>9750.0</td><td>9750.0</td><td>9750.0</td><td>9750.0</td><td>9750.0</td><td>9750.0</td><td>9750.0</td><td>9750.0</td><td>9750.0</td><td>9750.0</td><td>9750.0</td><td>9750.0</td><td>9750.0</td><td>9750.0</td><td>9750.0</td><td>9750.0</td><td>9750.0</td><td>9750.0</td><td>9750.0</td><td>9750.0</td><td>9750.0</td><td>9750.0</td><td>9750.0</td><td>9750.0</td><td>9750.0</td><td>9750.0</td><td>9750.0</td><td>9750.0</td><td>9750.0</td><td>9750.0</td><td>9750.0</td><td>9750.0</td><td>9750.0</td><td>&hellip;</td><td>0.0</td><td>0.0</td><td>0.0</td><td>0.0</td><td>0.0</td><td>0.0</td><td>0.0</td><td>0.0</td><td>0.0</td><td>0.0</td><td>0.0</td><td>0.0</td><td>0.0</td><td>0.0</td><td>0.0</td><td>0.0</td><td>0.0</td><td>0.0</td><td>0.0</td><td>0.0</td><td>0.0</td><td>0.0</td><td>0.0</td><td>0.0</td><td>0.0</td><td>0.0</td><td>0.0</td><td>0.0</td><td>0.0</td><td>0.0</td><td>0.0</td><td>0.0</td><td>0.0</td><td>0.0</td><td>0.0</td><td>0.0</td><td>0.0</td></tr><tr><td>&quot;mean&quot;</td><td>null</td><td>null</td><td>3.726415</td><td>3.641509</td><td>3.79717</td><td>3.584906</td><td>1.957547</td><td>4.358491</td><td>4.216981</td><td>2.15566</td><td>4.099057</td><td>4.084906</td><td>2.382075</td><td>2.693396</td><td>3.787736</td><td>4.066038</td><td>3.575472</td><td>3.754717</td><td>3.377358</td><td>3.514151</td><td>3.330189</td><td>3.570755</td><td>2.853774</td><td>3.141509</td><td>2.820755</td><td>3.783019</td><td>3.863208</td><td>4.018868</td><td>3.872642</td><td>4.084906</td><td>3.745283</td><td>3.900943</td><td>4.014151</td><td>3.877358</td><td>3.816038</td><td>3.886792</td><td>&hellip;</td><td>-0.149625</td><td>-0.109827</td><td>-0.034845</td><td>0.037672</td><td>-0.074486</td><td>-0.106928</td><td>0.113364</td><td>0.206468</td><td>0.170094</td><td>-0.064603</td><td>-0.139086</td><td>0.109661</td><td>0.132697</td><td>-0.328699</td><td>-0.307029</td><td>-0.199498</td><td>-0.161609</td><td>0.2248</td><td>0.070692</td><td>0.081987</td><td>-0.018728</td><td>0.084869</td><td>-0.288289</td><td>0.025437</td><td>-0.016952</td><td>-0.109616</td><td>-0.098557</td><td>-0.061606</td><td>0.101188</td><td>-0.095614</td><td>0.205444</td><td>-0.130832</td><td>-0.008351</td><td>0.010975</td><td>-0.091387</td><td>-0.030751</td><td>0.019194</td></tr><tr><td>&quot;std&quot;</td><td>null</td><td>null</td><td>0.753065</td><td>0.871133</td><td>0.853405</td><td>0.925566</td><td>0.968305</td><td>0.736017</td><td>0.758956</td><td>0.981007</td><td>0.749256</td><td>0.77268</td><td>0.813106</td><td>0.934699</td><td>0.845541</td><td>0.56271</td><td>0.889998</td><td>0.704862</td><td>0.941594</td><td>0.919132</td><td>0.944286</td><td>0.812778</td><td>1.17902</td><td>1.173578</td><td>1.088937</td><td>0.733654</td><td>0.755883</td><td>0.672927</td><td>0.678643</td><td>0.584907</td><td>0.740782</td><td>0.792132</td><td>0.67654</td><td>0.602165</td><td>0.71345</td><td>0.634504</td><td>&hellip;</td><td>4.505142</td><td>2.550931</td><td>3.583188</td><td>3.444348</td><td>4.059065</td><td>3.443272</td><td>4.044159</td><td>5.284009</td><td>5.217418</td><td>4.149585</td><td>3.190245</td><td>3.403778</td><td>2.227761</td><td>6.604829</td><td>4.458299</td><td>3.058953</td><td>3.037371</td><td>3.64328</td><td>4.380967</td><td>2.215644</td><td>2.859109</td><td>8.710501</td><td>4.629613</td><td>3.806337</td><td>2.115648</td><td>4.334916</td><td>3.652921</td><td>2.762257</td><td>2.753231</td><td>3.730394</td><td>6.785271</td><td>3.643522</td><td>4.411571</td><td>3.159534</td><td>2.875278</td><td>5.090141</td><td>3.059552</td></tr><tr><td>&quot;min&quot;</td><td>&quot;-1sqs0GXzpPJuAVKHUUFgg==&quot;</td><td>&quot;コンテンツ・サービス・デザイン&quot;</td><td>2.0</td><td>1.0</td><td>1.0</td><td>1.0</td><td>1.0</td><td>2.0</td><td>2.0</td><td>1.0</td><td>1.0</td><td>1.0</td><td>1.0</td><td>1.0</td><td>1.0</td><td>2.0</td><td>1.0</td><td>1.0</td><td>1.0</td><td>1.0</td><td>1.0</td><td>1.0</td><td>1.0</td><td>1.0</td><td>1.0</td><td>1.0</td><td>1.0</td><td>2.0</td><td>2.0</td><td>2.0</td><td>2.0</td><td>1.0</td><td>1.0</td><td>2.0</td><td>1.0</td><td>2.0</td><td>&hellip;</td><td>-127.906913</td><td>-57.427481</td><td>-50.469534</td><td>-80.172613</td><td>-99.831835</td><td>-70.3673</td><td>-38.876524</td><td>-63.967328</td><td>-94.645897</td><td>-81.365516</td><td>-51.546315</td><td>-37.898067</td><td>-15.92709</td><td>-235.75073</td><td>-111.219394</td><td>-60.755226</td><td>-65.391264</td><td>-42.324514</td><td>-54.642437</td><td>-22.500947</td><td>-80.531358</td><td>-187.012945</td><td>-151.626816</td><td>-72.901133</td><td>-20.416635</td><td>-170.243759</td><td>-46.715803</td><td>-37.173487</td><td>-24.777094</td><td>-106.652237</td><td>-44.009298</td><td>-87.778724</td><td>-119.437993</td><td>-82.117071</td><td>-62.962326</td><td>-125.532333</td><td>-60.76338</td></tr><tr><td>&quot;25%&quot;</td><td>null</td><td>null</td><td>3.0</td><td>3.0</td><td>3.0</td><td>3.0</td><td>1.0</td><td>4.0</td><td>4.0</td><td>1.0</td><td>4.0</td><td>4.0</td><td>2.0</td><td>2.0</td><td>3.0</td><td>4.0</td><td>3.0</td><td>3.0</td><td>3.0</td><td>3.0</td><td>3.0</td><td>3.0</td><td>2.0</td><td>2.0</td><td>2.0</td><td>4.0</td><td>4.0</td><td>4.0</td><td>4.0</td><td>4.0</td><td>3.0</td><td>4.0</td><td>4.0</td><td>4.0</td><td>3.0</td><td>4.0</td><td>&hellip;</td><td>-0.457868</td><td>-0.370586</td><td>-0.429288</td><td>-0.384944</td><td>-0.337597</td><td>-0.588943</td><td>-0.451107</td><td>-0.416488</td><td>-0.423328</td><td>-0.555343</td><td>-0.552806</td><td>-0.44643</td><td>-0.415997</td><td>-0.482372</td><td>-0.460461</td><td>-0.346207</td><td>-0.407968</td><td>-0.328126</td><td>-0.467631</td><td>-0.432242</td><td>-0.4232</td><td>-0.370175</td><td>-0.412842</td><td>-0.380868</td><td>-0.346158</td><td>-0.397543</td><td>-0.412356</td><td>-0.374076</td><td>-0.321736</td><td>-0.35864</td><td>-0.404732</td><td>-0.314672</td><td>-0.386388</td><td>-0.337078</td><td>-0.501706</td><td>-0.341471</td><td>-0.292209</td></tr><tr><td>&quot;50%&quot;</td><td>null</td><td>null</td><td>4.0</td><td>4.0</td><td>4.0</td><td>4.0</td><td>2.0</td><td>4.0</td><td>4.0</td><td>2.0</td><td>4.0</td><td>4.0</td><td>2.0</td><td>3.0</td><td>4.0</td><td>4.0</td><td>4.0</td><td>4.0</td><td>4.0</td><td>4.0</td><td>4.0</td><td>4.0</td><td>3.0</td><td>3.0</td><td>3.0</td><td>4.0</td><td>4.0</td><td>4.0</td><td>4.0</td><td>4.0</td><td>4.0</td><td>4.0</td><td>4.0</td><td>4.0</td><td>4.0</td><td>4.0</td><td>&hellip;</td><td>0.010328</td><td>0.052653</td><td>-0.048593</td><td>-0.016069</td><td>0.100084</td><td>0.044186</td><td>0.027827</td><td>-0.012378</td><td>-0.034604</td><td>-0.102016</td><td>-0.03876</td><td>-0.085199</td><td>0.028302</td><td>-0.035022</td><td>-0.009633</td><td>0.031083</td><td>-0.016936</td><td>-0.004912</td><td>0.027071</td><td>-0.046485</td><td>-0.016219</td><td>0.036658</td><td>-0.019398</td><td>-0.027353</td><td>-0.019462</td><td>-0.058663</td><td>-0.022748</td><td>-0.014172</td><td>0.023457</td><td>-0.00822</td><td>-0.046358</td><td>-0.045695</td><td>-0.023298</td><td>-0.002479</td><td>-0.017687</td><td>-0.002807</td><td>0.020719</td></tr><tr><td>&quot;75%&quot;</td><td>null</td><td>null</td><td>4.0</td><td>4.0</td><td>4.0</td><td>4.0</td><td>2.0</td><td>5.0</td><td>5.0</td><td>3.0</td><td>5.0</td><td>5.0</td><td>3.0</td><td>3.0</td><td>4.0</td><td>4.0</td><td>4.0</td><td>4.0</td><td>4.0</td><td>4.0</td><td>4.0</td><td>4.0</td><td>4.0</td><td>4.0</td><td>4.0</td><td>4.0</td><td>4.0</td><td>4.0</td><td>4.0</td><td>4.0</td><td>4.0</td><td>4.0</td><td>4.0</td><td>4.0</td><td>4.0</td><td>4.0</td><td>&hellip;</td><td>0.376875</td><td>0.410286</td><td>0.384433</td><td>0.424519</td><td>0.399936</td><td>0.420027</td><td>0.405987</td><td>0.455654</td><td>0.421288</td><td>0.330755</td><td>0.354981</td><td>0.462457</td><td>0.434447</td><td>0.355119</td><td>0.391737</td><td>0.325975</td><td>0.374275</td><td>0.368926</td><td>0.424018</td><td>0.33502</td><td>0.395425</td><td>0.372361</td><td>0.308975</td><td>0.408418</td><td>0.375267</td><td>0.2952</td><td>0.327398</td><td>0.323181</td><td>0.372066</td><td>0.373228</td><td>0.327751</td><td>0.326661</td><td>0.337555</td><td>0.323356</td><td>0.404552</td><td>0.423489</td><td>0.379502</td></tr><tr><td>&quot;max&quot;</td><td>&quot;zxmtr2h4ypvsNq02K9AMJg==&quot;</td><td>&quot;営業&quot;</td><td>5.0</td><td>5.0</td><td>5.0</td><td>5.0</td><td>5.0</td><td>5.0</td><td>5.0</td><td>5.0</td><td>5.0</td><td>5.0</td><td>5.0</td><td>5.0</td><td>5.0</td><td>5.0</td><td>5.0</td><td>5.0</td><td>5.0</td><td>5.0</td><td>5.0</td><td>5.0</td><td>5.0</td><td>5.0</td><td>5.0</td><td>5.0</td><td>5.0</td><td>5.0</td><td>5.0</td><td>5.0</td><td>5.0</td><td>5.0</td><td>5.0</td><td>5.0</td><td>5.0</td><td>5.0</td><td>&hellip;</td><td>24.670593</td><td>22.055899</td><td>73.408177</td><td>74.799082</td><td>104.59882</td><td>59.030583</td><td>105.827748</td><td>170.588009</td><td>173.593894</td><td>115.054719</td><td>74.882726</td><td>60.332068</td><td>46.381054</td><td>37.209913</td><td>18.285404</td><td>31.335228</td><td>36.838748</td><td>98.882029</td><td>151.989848</td><td>37.585178</td><td>48.651484</td><td>300.85437</td><td>12.198528</td><td>114.556341</td><td>41.682384</td><td>17.798691</td><td>121.902132</td><td>49.822289</td><td>61.714475</td><td>30.663742</td><td>250.906543</td><td>43.338828</td><td>76.587418</td><td>53.500431</td><td>35.566087</td><td>76.200725</td><td>64.107987</td></tr></tbody></table></div>"
            ]
          },
          "metadata": {},
          "execution_count": 390
        }
      ]
    },
    {
      "cell_type": "markdown",
      "source": [
        "## モデルの学習"
      ],
      "metadata": {
        "id": "2A1So743XnlS"
      }
    },
    {
      "cell_type": "code",
      "source": [
        "# 予測結果やモデルを格納するためのリストを初期化\n",
        "pred_dfs = []\n",
        "true_dfs = []\n",
        "# lgbm専用のモデルリストを作成\n",
        "lgbm_models = []\n",
        "\n",
        "# N_SPLITで定義された回数だけ、交差検証のループを実行\n",
        "for fold in range(CFG.N_SPLIT):\n",
        "\n",
        "  print(f\"#### Fold: {fold} ####\")\n",
        "\n",
        "  # --- データの分割 ---\n",
        "  _train_df = train_df.filter(\n",
        "      pl.col(\"fold\") != fold\n",
        "  )\n",
        "  _val_df = train_df.filter(\n",
        "      pl.col(\"fold\") == fold\n",
        "  )\n",
        "\n",
        "  # --- 特徴量とターゲットの分離 ---\n",
        "  X_train = _train_df.drop([\"employee_id\", \"target\", \"fold\"])\n",
        "  y_train = _train_df[\"target\"]\n",
        "  X_val = _val_df.drop([\"employee_id\", \"target\", \"fold\"])\n",
        "  y_val = _val_df[\"target\"]\n",
        "\n",
        "  # --- データ型の変換 ---\n",
        "  X_train = X_train.with_columns(\n",
        "      pl.col(\"category\").cast(pl.Categorical),\n",
        "      pl.col(\"marked_as_completed_min\").cast(pl.Float64),\n",
        "      pl.col(\"marked_as_completed_max\").cast(pl.Float64)\n",
        "  )\n",
        "  X_val = X_val.with_columns(\n",
        "      pl.col(\"category\").cast(pl.Categorical),\n",
        "      pl.col(\"marked_as_completed_min\").cast(pl.Float64),\n",
        "      pl.col(\"marked_as_completed_max\").cast(pl.Float64)\n",
        "  )\n",
        "\n",
        "  # --- LightGBMモデルの学習 ---\n",
        "  # 1. lgbm専用の分類器インスタンスを作成\n",
        "  lgbm_clf = lgb.LGBMClassifier(**CFG.lgb_params)\n",
        "\n",
        "  # 2. 検証用データセットとコールバックを定義\n",
        "  eval_set = [(X_val.to_pandas(), y_val.to_pandas())]\n",
        "  callbacks = [\n",
        "      lgb.early_stopping(stopping_rounds=100),\n",
        "      lgb.log_evaluation(period=100) # 100回ごとにログを表示\n",
        "  ]\n",
        "\n",
        "  # 3. カテゴリカル特徴量を指定してモデルを学習\n",
        "  cat_list = [\"category\"]\n",
        "  lgbm_clf.fit(\n",
        "      X_train.to_pandas(),\n",
        "      y_train.to_pandas(),\n",
        "      eval_set=eval_set,\n",
        "      categorical_feature = cat_list,\n",
        "      callbacks=callbacks\n",
        "  )\n",
        "\n",
        "  # モデルを保存するディレクトリを作成（存在しない場合のみ）\n",
        "  CFG.EXP_MODEL_PATH.mkdir(parents=True, exist_ok=True)\n",
        "\n",
        "  # 4. 学習済みモデルを保存（ファイル名に'lgb'を含める）\n",
        "  best_model_path = CFG.EXP_MODEL_PATH / f\"exp{CFG.VER}_lgb_fold_{fold}.model\"\n",
        "  lgbm_clf.booster_.save_model(best_model_path)\n",
        "  # lgbm専用のリストにモデルを追加\n",
        "  lgbm_models.append(lgbm_clf)\n",
        "\n",
        "  # 検証用データで予測を実行\n",
        "  pred = lgbm_clf.predict_proba(X_val.to_pandas())\n",
        "\n",
        "  # 予測結果（応募確率）と正解ラベルをリストに格納\n",
        "  pred_dfs.append(pred[:, 1])\n",
        "  true_dfs.append(y_val)"
      ],
      "metadata": {
        "colab": {
          "base_uri": "https://localhost:8080/"
        },
        "id": "EDHJ537P8UfG",
        "outputId": "4ec13b5f-bfcc-45a5-d0e7-b699cd70d05e"
      },
      "execution_count": 34,
      "outputs": [
        {
          "output_type": "stream",
          "name": "stdout",
          "text": [
            "#### Fold: 0 ####\n",
            "[LightGBM] [Info] Number of positive: 1302, number of negative: 31710\n",
            "[LightGBM] [Info] Auto-choosing row-wise multi-threading, the overhead of testing was 0.050858 seconds.\n",
            "You can set `force_row_wise=true` to remove the overhead.\n",
            "And if memory is not enough, you can set `force_col_wise=true`.\n",
            "[LightGBM] [Info] Total Bins 51523\n",
            "[LightGBM] [Info] Number of data points in the train set: 33012, number of used features: 205\n",
            "[LightGBM] [Info] [binary:BoostFromScore]: pavg=0.039440 -> initscore=-3.192731\n",
            "[LightGBM] [Info] Start training from score -3.192731\n",
            "Training until validation scores don't improve for 100 rounds\n",
            "[100]\tvalid_0's auc: 0.698944\n",
            "Early stopping, best iteration is:\n",
            "[49]\tvalid_0's auc: 0.703743\n",
            "#### Fold: 1 ####\n",
            "[LightGBM] [Info] Number of positive: 1296, number of negative: 31716\n",
            "[LightGBM] [Info] Auto-choosing row-wise multi-threading, the overhead of testing was 0.035963 seconds.\n",
            "You can set `force_row_wise=true` to remove the overhead.\n",
            "And if memory is not enough, you can set `force_col_wise=true`.\n",
            "[LightGBM] [Info] Total Bins 51523\n",
            "[LightGBM] [Info] Number of data points in the train set: 33012, number of used features: 205\n",
            "[LightGBM] [Info] [binary:BoostFromScore]: pavg=0.039258 -> initscore=-3.197539\n",
            "[LightGBM] [Info] Start training from score -3.197539\n",
            "Training until validation scores don't improve for 100 rounds\n",
            "[100]\tvalid_0's auc: 0.655246\n",
            "Early stopping, best iteration is:\n",
            "[4]\tvalid_0's auc: 0.680957\n",
            "#### Fold: 2 ####\n",
            "[LightGBM] [Info] Number of positive: 1296, number of negative: 31716\n",
            "[LightGBM] [Info] Auto-choosing row-wise multi-threading, the overhead of testing was 0.032791 seconds.\n",
            "You can set `force_row_wise=true` to remove the overhead.\n",
            "And if memory is not enough, you can set `force_col_wise=true`.\n",
            "[LightGBM] [Info] Total Bins 51523\n",
            "[LightGBM] [Info] Number of data points in the train set: 33012, number of used features: 205\n",
            "[LightGBM] [Info] [binary:BoostFromScore]: pavg=0.039258 -> initscore=-3.197539\n",
            "[LightGBM] [Info] Start training from score -3.197539\n",
            "Training until validation scores don't improve for 100 rounds\n",
            "[100]\tvalid_0's auc: 0.624473\n",
            "Early stopping, best iteration is:\n",
            "[6]\tvalid_0's auc: 0.657973\n",
            "#### Fold: 3 ####\n",
            "[LightGBM] [Info] Number of positive: 1308, number of negative: 31740\n",
            "[LightGBM] [Info] Auto-choosing row-wise multi-threading, the overhead of testing was 0.048210 seconds.\n",
            "You can set `force_row_wise=true` to remove the overhead.\n",
            "And if memory is not enough, you can set `force_col_wise=true`.\n",
            "[LightGBM] [Info] Total Bins 51523\n",
            "[LightGBM] [Info] Number of data points in the train set: 33048, number of used features: 205\n",
            "[LightGBM] [Info] [binary:BoostFromScore]: pavg=0.039579 -> initscore=-3.189078\n",
            "[LightGBM] [Info] Start training from score -3.189078\n",
            "Training until validation scores don't improve for 100 rounds\n",
            "[100]\tvalid_0's auc: 0.691466\n",
            "[200]\tvalid_0's auc: 0.693544\n",
            "Early stopping, best iteration is:\n",
            "[120]\tvalid_0's auc: 0.701503\n"
          ]
        }
      ]
    },
    {
      "cell_type": "code",
      "source": [
        "def calc_score(y_true, y_pred):\n",
        "    score = roc_auc_score(y_true, y_pred)\n",
        "    return score"
      ],
      "metadata": {
        "id": "IvpOBSgqleVU"
      },
      "execution_count": 38,
      "outputs": []
    },
    {
      "cell_type": "code",
      "source": [
        "calc_score(\n",
        "    pl.concat(true_dfs),\n",
        "    pl.concat([pl.Series(pred_df) for pred_df in pred_dfs])\n",
        ")"
      ],
      "metadata": {
        "id": "1LZ80gKplgBG",
        "colab": {
          "base_uri": "https://localhost:8080/"
        },
        "outputId": "f341b8ed-fd7b-4714-b543-556f5af19755"
      },
      "execution_count": 36,
      "outputs": [
        {
          "output_type": "execute_result",
          "data": {
            "text/plain": [
              "np.float64(0.6693953006168879)"
            ]
          },
          "metadata": {},
          "execution_count": 36
        }
      ]
    },
    {
      "cell_type": "code",
      "source": [
        "import xgboost as xgb\n",
        "import pandas as pd\n",
        "import polars as pl\n",
        "from pathlib import Path\n",
        "\n",
        "# (CFGクラスの定義は事前に行われていると仮定します)\n",
        "# class CFG:\n",
        "#     ...\n",
        "\n",
        "# 予測結果やモデルを格納するためのリストを初期化\n",
        "pred_dfs = []\n",
        "true_dfs = []\n",
        "xgb_models = []\n",
        "\n",
        "# N_SPLITで定義された回数だけ、交差検証のループを実行\n",
        "for fold in range(CFG.N_SPLIT):\n",
        "\n",
        "  print(f\"#### Fold: {fold} ####\")\n",
        "\n",
        "  # --- データの分割 ---\n",
        "  # 現在のfold番号以外のデータを学習用（train）とする\n",
        "  _train_df = train_df.filter(\n",
        "      pl.col(\"fold\") != fold\n",
        "  )\n",
        "  # 現在のfold番号のデータを検証用（validation）とする\n",
        "  _val_df = train_df.filter(\n",
        "      pl.col(\"fold\") == fold\n",
        "  )\n",
        "\n",
        "  # --- 特徴量とターゲットの分離 ---\n",
        "  X_train = _train_df.drop([\"employee_id\", \"target\", \"fold\"])\n",
        "  y_train = _train_df[\"target\"]\n",
        "  X_val = _val_df.drop([\"employee_id\", \"target\", \"fold\"])\n",
        "  y_val = _val_df[\"target\"]\n",
        "\n",
        "  # --- データ型の変換 ---\n",
        "  # XGBoostがカテゴリカル特徴量を正しく認識できるように型を変換する\n",
        "  X_train = X_train.with_columns(\n",
        "      pl.col(\"category\").cast(pl.Categorical),\n",
        "      pl.col(\"marked_as_completed_min\").cast(pl.Float64),\n",
        "      pl.col(\"marked_as_completed_max\").cast(pl.Float64)\n",
        "  )\n",
        "  X_val = X_val.with_columns(\n",
        "      pl.col(\"category\").cast(pl.Categorical),\n",
        "      pl.col(\"marked_as_completed_min\").cast(pl.Float64),\n",
        "      pl.col(\"marked_as_completed_max\").cast(pl.Float64)\n",
        "  )\n",
        "\n",
        "  # --- XGBoostモデルの学習 ---\n",
        "  # 1. CFGで定義したパラメータを使って、XGBoost分類器のインスタンスを作成\n",
        "  xgb_clf = xgb.XGBClassifier(**CFG.xgb_params)\n",
        "\n",
        "  # 2. 検証用データセットを定義\n",
        "  eval_set = [(X_val.to_pandas(), y_val.to_pandas())]\n",
        "\n",
        "  # 3. モデルを学習させる\n",
        "  # Note: 早期終了（Early stopping）はCFG.xgb_params内の'early_stopping_rounds'で制御される\n",
        "  # Note: ログの表示頻度は'verbose'パラメータで制御される\n",
        "  xgb_clf.fit(\n",
        "      X_train.to_pandas(),\n",
        "      y_train.to_pandas(),\n",
        "      eval_set=eval_set,\n",
        "      verbose=100 # 100イテレーションごとにログを表示\n",
        "  )\n",
        "\n",
        "  # モデルを保存するディレクトリを作成（存在しない場合のみ）\n",
        "  CFG.EXP_MODEL_PATH.mkdir(parents=True, exist_ok=True)\n",
        "\n",
        "  # 4. 学習済みモデルを保存\n",
        "  best_model_path = CFG.EXP_MODEL_PATH / f\"exp{CFG.VER}_xgb_fold_{fold}.json\"\n",
        "  xgb_clf.save_model(best_model_path)\n",
        "  xgb_models.append(xgb_clf)\n",
        "\n",
        "  # 検証用データで予測を実行\n",
        "  pred = xgb_clf.predict_proba(X_val.to_pandas())\n",
        "\n",
        "  # 予測結果（応募確率）と正解ラベルをリストに格納\n",
        "  pred_dfs.append(pred[:, 1])\n",
        "  true_dfs.append(y_val)"
      ],
      "metadata": {
        "colab": {
          "base_uri": "https://localhost:8080/"
        },
        "id": "JZpWWDB19IT5",
        "outputId": "a7548764-0a37-4511-8ed9-e1e1d3042a2d"
      },
      "execution_count": 37,
      "outputs": [
        {
          "output_type": "stream",
          "name": "stdout",
          "text": [
            "#### Fold: 0 ####\n",
            "[0]\tvalidation_0-auc:0.53090\n",
            "[100]\tvalidation_0-auc:0.66257\n",
            "[156]\tvalidation_0-auc:0.65924\n",
            "#### Fold: 1 ####\n",
            "[0]\tvalidation_0-auc:0.52753\n",
            "[51]\tvalidation_0-auc:0.60982\n",
            "#### Fold: 2 ####\n",
            "[0]\tvalidation_0-auc:0.55026\n",
            "[77]\tvalidation_0-auc:0.63536\n",
            "#### Fold: 3 ####\n",
            "[0]\tvalidation_0-auc:0.56183\n",
            "[100]\tvalidation_0-auc:0.70892\n",
            "[115]\tvalidation_0-auc:0.71199\n"
          ]
        }
      ]
    },
    {
      "cell_type": "code",
      "source": [
        "calc_score(\n",
        "    pl.concat(true_dfs),\n",
        "    pl.concat([pl.Series(pred_df) for pred_df in pred_dfs])\n",
        ")"
      ],
      "metadata": {
        "colab": {
          "base_uri": "https://localhost:8080/"
        },
        "id": "_D1_43e9CPkG",
        "outputId": "0082a79a-291d-4053-8dfe-44309e7e9697"
      },
      "execution_count": 39,
      "outputs": [
        {
          "output_type": "execute_result",
          "data": {
            "text/plain": [
              "np.float64(0.6207148085006535)"
            ]
          },
          "metadata": {},
          "execution_count": 39
        }
      ]
    },
    {
      "cell_type": "markdown",
      "source": [
        "## testデータの予測"
      ],
      "metadata": {
        "id": "3tsRplfgqrZG"
      }
    },
    {
      "cell_type": "code",
      "source": [
        "cols = train_df.drop([\"employee_id\", \"fold\", \"target\"]).columns"
      ],
      "metadata": {
        "id": "oUFvLirQ9sPA"
      },
      "execution_count": 40,
      "outputs": []
    },
    {
      "cell_type": "code",
      "source": [
        "# --- 1. テストデータの前処理 (学習時と完全に同じ処理を行う) ---\n",
        "# この処理は一度だけ行います\n",
        "test_processed = test_df.with_columns(\n",
        "    pl.col(\"category\").cast(pl.Categorical),\n",
        "    pl.col(\"marked_as_completed_min\").cast(pl.Float64),\n",
        "    pl.col(\"marked_as_completed_max\").cast(pl.Float64)\n",
        ")[cols].to_pandas()\n",
        "\n",
        "\n",
        "# --- 2. LightGBMモデルでの予測 ---\n",
        "lgbm_preds = []\n",
        "print(\"LightGBMモデルで予測を開始...\")\n",
        "for model in lgbm_models:\n",
        "    # 各foldのモデルで予測\n",
        "    pred = model.predict_proba(test_processed)[:, 1]\n",
        "    lgbm_preds.append(pred)\n",
        "\n",
        "# 各foldの予測結果を平均し、lgbmの最終的な予測値とする\n",
        "avg_lgbm_pred = np.mean(lgbm_preds, axis=0)\n",
        "print(\"LightGBMモデルの予測完了。\")\n",
        "\n",
        "\n",
        "# --- 3. XGBoostモデルでの予測 ---\n",
        "xgb_preds = []\n",
        "print(\"XGBoostモデルで予測を開始...\")\n",
        "for model in xgb_models:\n",
        "    # 各foldのモデルで予測\n",
        "    pred = model.predict_proba(test_processed)[:, 1]\n",
        "    xgb_preds.append(pred)\n",
        "\n",
        "# 各foldの予測結果を平均し、xgbの最終的な予測値とする\n",
        "avg_xgb_pred = np.mean(xgb_preds, axis=0)\n",
        "print(\"XGBoostモデルの予測完了。\")\n",
        "\n",
        "\n",
        "# --- 4. アンサンブル (単純平均) ---\n",
        "# lgbmの予測値とxgbの予測値を単純に平均する\n",
        "print(\"アンサンブル処理を開始...\")\n",
        "final_pred = (avg_lgbm_pred + avg_xgb_pred) / 2\n",
        "print(\"アンサンブル処理完了。\")\n"
      ],
      "metadata": {
        "id": "vZEz-R-xlmkM",
        "colab": {
          "base_uri": "https://localhost:8080/"
        },
        "outputId": "cf596dcd-37ce-4799-a1e5-57e77ba8bbf0"
      },
      "execution_count": 42,
      "outputs": [
        {
          "output_type": "stream",
          "name": "stdout",
          "text": [
            "LightGBMモデルで予測を開始...\n",
            "LightGBMモデルの予測完了。\n",
            "XGBoostモデルで予測を開始...\n",
            "XGBoostモデルの予測完了。\n",
            "アンサンブル処理を開始...\n",
            "アンサンブル処理完了。\n"
          ]
        }
      ]
    },
    {
      "cell_type": "markdown",
      "source": [
        "## Sumbissionの作成"
      ],
      "metadata": {
        "id": "a9JBTXDtrFFO"
      }
    },
    {
      "cell_type": "code",
      "source": [
        "# 提出用フォルダを作成（存在しない場合のみ）\n",
        "CFG.SUBMISSION_PATH.mkdir(parents=True, exist_ok=True)\n",
        "\n",
        "# 最終予測値をPolars DataFrameに変換\n",
        "# sample_submission.csvを読み込む必要はなく、予測値の配列から直接作成します\n",
        "submission_df = pl.DataFrame({\n",
        "    \"target\": avg_lgbm_pred\n",
        "})\n",
        "\n",
        "# 保存するファイル名を定義（アンサンブルであることがわかるように変更）\n",
        "# 例: exp001_submission_ensembled.csv\n",
        "submission_filename = f\"exp{CFG.VER:0{3}}_submission_ensembled.csv\"\n",
        "\n",
        "# CSVファイルとして書き出し\n",
        "submission_df.write_csv(CFG.SUBMISSION_PATH / submission_filename)\n",
        "\n",
        "print(f\"アンサンブル結果を '{CFG.SUBMISSION_PATH / submission_filename}' に保存しました。\")"
      ],
      "metadata": {
        "id": "IKGeR-N0ltX9",
        "colab": {
          "base_uri": "https://localhost:8080/"
        },
        "outputId": "16bb735a-37ca-40b2-de49-c6c17ae82149"
      },
      "execution_count": 43,
      "outputs": [
        {
          "output_type": "stream",
          "name": "stdout",
          "text": [
            "アンサンブル結果を '/content/drive/MyDrive/atmaCup#20/submission/exp1.3_submission_ensembled.csv' に保存しました。\n"
          ]
        }
      ]
    },
    {
      "cell_type": "code",
      "source": [
        "pd.DataFrame({\"target\": final_pred}).hist()\n"
      ],
      "metadata": {
        "id": "t5-qHi81mXYz",
        "colab": {
          "base_uri": "https://localhost:8080/",
          "height": 470
        },
        "outputId": "50a82b6c-99da-40ec-ff17-105af4b49fd0"
      },
      "execution_count": 44,
      "outputs": [
        {
          "output_type": "execute_result",
          "data": {
            "text/plain": [
              "array([[<Axes: title={'center': 'target'}>]], dtype=object)"
            ]
          },
          "metadata": {},
          "execution_count": 44
        },
        {
          "output_type": "display_data",
          "data": {
            "text/plain": [
              "<Figure size 640x480 with 1 Axes>"
            ],
            "image/png": "[encoded data removed]"
          },
          "metadata": {}
        }
      ]
    },
    {
      "cell_type": "code",
      "source": [],
      "metadata": {
        "id": "SjqTLPURmXy8"
      },
      "execution_count": null,
      "outputs": []
    }
  ]
}