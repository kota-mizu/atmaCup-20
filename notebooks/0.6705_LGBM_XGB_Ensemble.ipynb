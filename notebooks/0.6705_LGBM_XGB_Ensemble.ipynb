{
  "nbformat": 4,
  "nbformat_minor": 0,
  "metadata": {
    "colab": {
      "provenance": [],
      "toc_visible": true,
      "mount_file_id": "1LdLeWP408LB3PxVC8_m_UiuHCoZymKG-",
      "authorship_tag": "ABX9TyMq+ZRMXc620tkIrZMwjpZj",
      "include_colab_link": true
    },
    "kernelspec": {
      "name": "python3",
      "display_name": "Python 3"
    },
    "language_info": {
      "name": "python"
    }
  },
  "cells": [
    {
      "cell_type": "markdown",
      "metadata": {
        "id": "view-in-github",
        "colab_type": "text"
      },
      "source": [
        "<a href=\"https://colab.research.google.com/github/kota-mizu/atmaCup-20/blob/main/notebooks/0.6705_LGBM_XGB_Ensemble.ipynb\" target=\"_parent\"><img src=\"https://colab.research.google.com/assets/colab-badge.svg\" alt=\"Open In Colab\"/></a>"
      ]
    },
    {
      "cell_type": "code",
      "execution_count": 172,
      "metadata": {
        "collapsed": true,
        "id": "Qev57z56QTzi"
      },
      "outputs": [],
      "source": [
        "# !pip install ydata-profiling"
      ]
    },
    {
      "cell_type": "markdown",
      "source": [
        "## ライブラリのインポート"
      ],
      "metadata": {
        "id": "POk0kcdBYFcY"
      }
    },
    {
      "cell_type": "code",
      "source": [
        "# ====================================================\n",
        "# Library\n",
        "# ====================================================\n",
        "import os\n",
        "import gc\n",
        "import warnings\n",
        "warnings.filterwarnings('ignore')\n",
        "import random\n",
        "from scipy import sparse as sp\n",
        "import numpy as np\n",
        "import pandas as pd\n",
        "import polars as pl\n",
        "from glob import glob\n",
        "from pathlib import Path\n",
        "import joblib\n",
        "import pickle\n",
        "import itertools\n",
        "from tqdm.auto import tqdm\n",
        "from datetime import datetime\n",
        "\n",
        "\n",
        "import torch\n",
        "from sklearn.model_selection import KFold, StratifiedKFold, train_test_split, GroupKFold, StratifiedGroupKFold\n",
        "from sklearn.metrics import log_loss, roc_auc_score, matthews_corrcoef, f1_score\n",
        "from sklearn.metrics import mean_squared_error\n",
        "from sklearn.preprocessing import LabelEncoder\n",
        "from sklearn.decomposition import TruncatedSVD, NMF\n",
        "import lightgbm as lgb\n",
        "import xgboost as xgb\n",
        "# from catboost import Pool, CatBoostRegressor, CatBoostClassifier\n",
        "import time\n",
        "\n",
        "# import implicit\n",
        "import scipy.stats as stats\n",
        "from scipy.sparse import coo_matrix\n",
        "from pprint import pprint\n",
        "\n",
        "from abc import ABC, abstractmethod"
      ],
      "metadata": {
        "id": "yafbIHhzQYEV"
      },
      "execution_count": 173,
      "outputs": []
    },
    {
      "cell_type": "markdown",
      "source": [
        "## Config"
      ],
      "metadata": {
        "id": "kg1DqQwaj2KG"
      }
    },
    {
      "cell_type": "code",
      "source": [
        "# ====================================================\n",
        "# Configurations\n",
        "# ====================================================\n",
        "class CFG:\n",
        "    #実験設定\n",
        "    # USE_GPU = torch.cuda.is_available()\n",
        "    SEED = 42\n",
        "    N_SPLIT = 4\n",
        "    metric = 'auc'\n",
        "    metric_maximize_flag = True\n",
        "    VER = 1.1\n",
        "\n",
        "    # COMPETITION = 'atmacup20'\n",
        "    MAIN_PATH = '/content/drive/MyDrive/atmaCup#20' ### パスを適宜変更\n",
        "    # DATA_PATH = Path(f'{MAIN_PATH}/data')\n",
        "    # OUTPUT_PATH = Path(f'{MAIN_PATH}/output')\n",
        "    MODEL_PATH = Path(f'{MAIN_PATH}/model/')\n",
        "    SUBMISSION_PATH = Path(f'{MAIN_PATH}/submission/')\n",
        "    PREPROCESSED_DATA_PATH = Path(f'{MAIN_PATH}/preprocessed_data')\n",
        "    OOF_DATA_PATH = Path(f'{MAIN_PATH}/oof')\n",
        "    MODEL_DATA_PATH = Path(f'{MAIN_PATH}/models')\n",
        "    # バージョンごとの実験用パスを自動で作成\n",
        "    EXP_MODEL_PATH = MODEL_PATH / f\"exp{VER}\"\n",
        "    # EXP_SUBMISSION_PATH = SUBMISSION_PATH / f\"exp{VER}\"\n",
        "\n",
        "\n",
        "    num_boost_round = 2500\n",
        "    early_stopping_round = 50\n",
        "    verbose = 100\n",
        "\n",
        "    lgb_params = {\n",
        "        'boosting_type': 'gbdt',\n",
        "        'objective': 'binary',\n",
        "        'metric': 'auc',\n",
        "        'n_estimators': 10000,\n",
        "        'learning_rate': 0.05,\n",
        "        'random_state': SEED,\n",
        "        'device': 'cpu',\n",
        "        \"max_depth\": 15,\n",
        "        \"num_leaves\": 6,\n",
        "        \"colsample_bytree\": 0.9,\n",
        "        \"colsample_bynode\": 0.6,\n",
        "        \"reg_alpha\": 3.5,\n",
        "        \"reg_lambda\": 1.5,\n",
        "        \"min_child_samples\": 50,\n",
        "        \"subsample\": 0.8,\n",
        "        \"subsample_freq\": 1,\n",
        "    }\n",
        "    xgb_params = {\n",
        "        'tree_method': \"hist\",\n",
        "        'objective': 'binary:logistic',\n",
        "        'eval_metric': 'auc', # 'logloss',\n",
        "        'n_estimators':10000,\n",
        "        'early_stopping_rounds': 50,\n",
        "        'learning_rate': 0.05,\n",
        "        'max_depth': 6,\n",
        "        'random_state': SEED,\n",
        "        'gamma':0.1,\n",
        "        'subsample':0.8,\n",
        "        'colsample_bytree':0.3,\n",
        "        'min_child_weight':3,\n",
        "        'enable_categorical': True,\n",
        "    }\n",
        "\n",
        "    cat_params = {\n",
        "        'loss_function': 'Logloss',\n",
        "        'eval_metric': 'AUC', #\n",
        "        'learning_rate': 0.05,\n",
        "        'iterations': num_boost_round,\n",
        "        'depth': 3,\n",
        "        'random_seed': SEED,\n",
        "    }"
      ],
      "metadata": {
        "id": "ycolqT9ugD_p"
      },
      "execution_count": 207,
      "outputs": []
    },
    {
      "cell_type": "code",
      "source": [
        "# random seedを固定\n",
        "def fix_seed(seed):\n",
        "    # random\n",
        "    random.seed(seed)\n",
        "    # Numpy\n",
        "    np.random.seed(seed)\n",
        "    os.environ[\"PYTHONHASHSEED\"] = str(seed)\n",
        "\n",
        "fix_seed(CFG.SEED)"
      ],
      "metadata": {
        "id": "gVPRvXs7gGDm"
      },
      "execution_count": 175,
      "outputs": []
    },
    {
      "cell_type": "markdown",
      "source": [
        "## データの読み込み"
      ],
      "metadata": {
        "id": "qlAqKNtvYJZ0"
      }
    },
    {
      "cell_type": "code",
      "source": [
        "from google.colab import drive\n",
        "drive.mount('/content/drive')"
      ],
      "metadata": {
        "colab": {
          "base_uri": "https://localhost:8080/"
        },
        "id": "fFnSg8JOSl33",
        "outputId": "18e8a936-40fe-4147-fdd0-586e8d6968ad"
      },
      "execution_count": 176,
      "outputs": [
        {
          "output_type": "stream",
          "name": "stdout",
          "text": [
            "Drive already mounted at /content/drive; to attempt to forcibly remount, call drive.mount(\"/content/drive\", force_remount=True).\n"
          ]
        }
      ]
    },
    {
      "cell_type": "code",
      "source": [
        "DATA_DIR = '/content/drive/MyDrive/atmaCup#20/'"
      ],
      "metadata": {
        "id": "x-4DLXaBQayK"
      },
      "execution_count": 177,
      "outputs": []
    },
    {
      "cell_type": "code",
      "source": [
        "#@title データロード\n",
        "\n",
        "class DataLoader(ABC):\n",
        "    \"\"\"\n",
        "    データローダーの抽象クラス\n",
        "    \"\"\"\n",
        "\n",
        "    def __init__(self):\n",
        "        \"\"\"\n",
        "        初期化メソッド\n",
        "        \"\"\"\n",
        "        pass\n",
        "\n",
        "    @abstractmethod\n",
        "    def get(self) -> pl.DataFrame:\n",
        "        \"\"\"\n",
        "        データを取得する抽象メソッド\n",
        "        サブクラスで実装する必要があります\n",
        "        \"\"\"\n",
        "        pass"
      ],
      "metadata": {
        "id": "6ih-Yl2UaOSB"
      },
      "execution_count": 178,
      "outputs": []
    },
    {
      "cell_type": "code",
      "source": [
        "class TrainLoader(DataLoader):\n",
        "    \"\"\"train.csvファイルを読み込むためのDataLoader\"\"\"\n",
        "\n",
        "    def __init__(self, file_path: str = \"train.csv\"):\n",
        "        super().__init__()\n",
        "        self.file_path = file_path\n",
        "        self.df = pl.read_csv(self.file_path)\n",
        "\n",
        "        column_mapping = {\n",
        "            \"社員番号\": \"employee_id\",\n",
        "        }\n",
        "\n",
        "        # カラム名を変更\n",
        "        self.df = self.df.rename(column_mapping)\n",
        "\n",
        "        # response_mapping = {\n",
        "        #     \"コーポレート管理部門/技術・データ・BPR\": \"corporate_ops\",\n",
        "        #     \"事業企画・開発・研究\": \"business_dev\",\n",
        "        #     \"マーケティング\": \"marketing\",\n",
        "        #     \"営業\": \"sales\",\n",
        "        #     \"コンテンツ・サービス・デザイン\": \"content_design\",\n",
        "        #     \"プロダクトマネジメント\": \"product_mgmt\",\n",
        "        # }\n",
        "\n",
        "        # self.df = self.df.with_columns(\n",
        "        #     pl.col(\"category\").replace_strict(response_mapping)\n",
        "        # )\n",
        "\n",
        "    def get(self):\n",
        "        return self.df"
      ],
      "metadata": {
        "id": "2cCxD9CgaSIR"
      },
      "execution_count": 179,
      "outputs": []
    },
    {
      "cell_type": "code",
      "source": [
        "class TestLoader(DataLoader):\n",
        "    \"\"\"test.csvファイル用のDataLoader\"\"\"\n",
        "\n",
        "    def __init__(self, file_path: str = \"test.csv\"):\n",
        "        super().__init__()\n",
        "        self.file_path = file_path\n",
        "        self.df = pl.read_csv(self.file_path)\n",
        "\n",
        "        column_mapping = {\n",
        "            \"社員番号\": \"employee_id\",\n",
        "        }\n",
        "\n",
        "        # カラム名を変更\n",
        "        self.df = self.df.rename(column_mapping)\n",
        "\n",
        "        # response_mapping = {\n",
        "        #     \"コーポレート管理部門/技術・データ・BPR\": \"corporate_ops\",\n",
        "        #     \"事業企画・開発・研究\": \"business_dev\",\n",
        "        #     \"マーケティング\": \"marketing\",\n",
        "        #     \"営業\": \"sales\",\n",
        "        #     \"コンテンツ・サービス・デザイン\": \"content_design\",\n",
        "        #     \"プロダクトマネジメント\": \"product_mgmt\",\n",
        "        # }\n",
        "\n",
        "        # self.df = self.df.with_columns(\n",
        "        #     pl.col(\"category\").replace_strict(response_mapping)\n",
        "        # )\n",
        "\n",
        "    def get(self):\n",
        "        return self.df"
      ],
      "metadata": {
        "id": "W2GCnO6bb2np"
      },
      "execution_count": 180,
      "outputs": []
    },
    {
      "cell_type": "code",
      "source": [
        "class CareerLoader(DataLoader):\n",
        "    \"\"\"career.csvファイル用のDataLoader\"\"\"\n",
        "\n",
        "    def __init__(self, file_path: str = \"career.csv\"):\n",
        "        super().__init__()\n",
        "        self.file_path = file_path\n",
        "        self.df = pl.read_csv(self.file_path)\n",
        "\n",
        "        column_mapping = {\n",
        "            \"社員番号\": \"employee_id\",\n",
        "            \"自分の能力を発揮できる仕事上の得意分野が見つかっている\\n\": \"found_strengths\",\n",
        "            \"自分はどんな仕事をやりたいのか明らかである      \\n\": \"clear_job_interest\",\n",
        "            \"自分は何を望んで今の仕事をしているのかわかっている\\n\": \"know_job_purpose\",\n",
        "            \"自分なりの職業的な生き方に関する目標・目的がはっきりしている\\n\": \"clear_career_goals\",\n",
        "            \"自分のこれからのキャリアには、あまり関心がない\\n\": \"low_career_interest\",\n",
        "            \"これからのキャリアを、より充実したものにしたいと強く思う\\n\": \"strong_career_desire\",\n",
        "            \"キャリア設計（職業生活の設計）は、自分にとって重要な課題である\\n\": \"career_design_important\",\n",
        "            \"これからのキャリアをどう歩むべきか、あまり考えていない\\n\": \"not_thinking_future_career\",\n",
        "            \"納得いくキャリアを歩めるかどうかは、自分の責任だと思う\\n\": \"career_satisfaction_my_responsibility\",\n",
        "            \"キャリア形成は、自分自身の責任である\\n\": \"career_dev_my_responsibility\",\n",
        "            \"納得いくキャリアを歩めない原因の大半は周囲の環境にある\\n\": \"blame_env_for_unsat_career\",\n",
        "            \"キャリアは周りの環境によって決められていくものだと思う\\n\": \"career_shaped_by_env\",\n",
        "            \"新しい環境や状況にも、わりあい早くなじんで対応している\": \"adapt_new_env_quickly\",\n",
        "            \"職場環境の変化に対して自分なりに考えて対応している\": \"respond_to_work_env_changes\",\n",
        "            \"新しい職場に移ってもすぐに自分らしさを発揮している\": \"show_self_in_new_workplace\",\n",
        "            \"職場の制度や仕事が変わってもすぐ対応している\": \"adapt_to_work_changes\",\n",
        "            \"自分の職種・業界分野における最新動向を常に情報収集している\": \"track_industry_trends\",\n",
        "            \"仕事のために新しいことをいろいろ勉強している\": \"study_new_for_work\",\n",
        "            \"社会・経済の動きや成り行きに関する情報を、積極的に収集している\": \"follow_social_econ_trends\",\n",
        "            \"新しい知識・技術を積極的に学ぶように努めている\": \"learn_new_tech\",\n",
        "            \"新しい人間関係が構築できるように、社内外の活動に積極的に参加している\": \"build_relations_actively\",\n",
        "            \"仕事と直接関係ない人とも積極的に交流するようにしている\": \"interact_beyond_work\",\n",
        "            \"新しいネットワークづくりに常に取り組んでいる\": \"build_new_networks\",\n",
        "            \"自分の満足感を高めるように、仕事のやり方を工夫している\": \"improve_work_for_satisfaction\",\n",
        "            \"常に自発的に仕事を行っている\": \"work_proactively\",\n",
        "            \"自分の価値観やポリシーを持って仕事に取り組んでいる\": \"work_with_values\",\n",
        "            \"仕事の進め方や企画を立てる上で、今までの延長上のやり方ではなく、自分なりの発想を持って取り組んでいる\": \"creative_work_planning\",\n",
        "            \"少人数チームで協力してタスクを完遂できる\": \"small_team_collab\",\n",
        "            \"メンバー全員のアイデアを取り入れて成果物を作れる\": \"integrate_team_ideas\",\n",
        "            \"同僚や上司に向けて口頭でプレゼンテーションができる\": \"oral_presentation\",\n",
        "            \"スライドや動画などのデジタル資料を用いて情報を共有できる\": \"share_info_digitally\",\n",
        "            \"異なる視点を比較して最適な解決策を選べる\": \"compare_views_find_solution\",\n",
        "            \"正解が一つでない問題に対して解決策を導き出せる\": \"solve_ambiguous_problems\",\n",
        "            \"複数のアイデアを試行し改善を重ねられる\": \"iterate_ideas_improve\",\n",
        "            \"困難な業務課題に対して独自の解決策を考案できる\": \"create_unique_solutions\",\n",
        "            \"自分の進捗をモニタリングし計画を柔軟に調整できる\": \"monitor_and_adjust_plan\",\n",
        "            \"フィードバックを受けて自ら仕事を改善できる\": \"use_feedback_to_improve\",\n",
        "            \"業務データを可視化し\\xa0BI\\xa0ダッシュボードで意思決定に活用できる\": \"use_bi_for_decision\",\n",
        "            \"RPA／ノーコードツールで反復的な業務フローを自動化できる\": \"automate_with_rpa\",\n",
        "            \"生成\\xa0AI\\xa0や機械学習モデルを業務改善に活用できる\": \"use_ai_ml_for_improvement\",\n",
        "            \"クラウド環境のアクセス権限を監査し情報保護を徹底できる\": \"audit_cloud_security\",\n",
        "            \"デジタルマーケティング施策（SNS\\xa0広告等）をデータで最適化できる\": \"optimize_digital_marketing\",\n",
        "            \"顧客・市場データを用いて新商品・サービス企画を立案できる\": \"plan_products_with_data\",\n",
        "            \"クラウド／DevOps\\xa0環境を構築し\\xa0IaC\\xa0で継続的デプロイを管理できる\": \"manage_devops_with_iac\",\n",
        "            \"デジタルツインや\\xa0IoT\\xa0データを用いたサプライチェーン最適化を提案・実装できる\": \"optimize_supply_with_iot\",\n",
        "        }\n",
        "\n",
        "        # カラム名を変更\n",
        "        self.df = self.df.rename(column_mapping)\n",
        "\n",
        "        response_mapping = {\n",
        "            \"1 全くそう思わない／全く当てはまらない\": 1,\n",
        "            \"2 あまりそう思わない／あまり当てはまらない\": 2,\n",
        "            \"3 どちらとも言えない\": 3,\n",
        "            \"4 そう思う／当てはまる\": 4,\n",
        "            \"5 強くそう思う／とても当てはまる \": 5,\n",
        "            \"5 強くそう思う／とても当てはまる\": 5,\n",
        "        }\n",
        "\n",
        "        target_cols = [col for col in self.df.columns if col != \"employee_id\"]\n",
        "\n",
        "        # 各列にマッピングを適用して更新\n",
        "        for col in target_cols:\n",
        "            self.df = self.df.with_columns(\n",
        "                pl.col(col).replace_strict(response_mapping)\n",
        "            )\n",
        "\n",
        "    def get(self):\n",
        "        return self.df"
      ],
      "metadata": {
        "id": "80Lm2Iv0bS6o"
      },
      "execution_count": 181,
      "outputs": []
    },
    {
      "cell_type": "code",
      "source": [
        "class DXLoader(DataLoader):\n",
        "    \"\"\"dx.csvファイル用のDataLoader\"\"\"\n",
        "\n",
        "    def __init__(self, file_path: str = \"dx.csv\"):\n",
        "        super().__init__()\n",
        "        self.file_path = file_path\n",
        "        self.df = pl.read_csv(self.file_path)\n",
        "\n",
        "        column_mapping = {\n",
        "            \"社員番号\": \"employee_id\",\n",
        "            \"研修実施日\": \"training_date\",\n",
        "            \"研修カテゴリ\": \"training_category\",\n",
        "            \"研修名\": \"training_name\",\n",
        "        }\n",
        "\n",
        "        self.df = self.df.rename(column_mapping)\n",
        "\n",
        "        self.df = self.df.with_columns(\n",
        "            pl.col(\"training_date\").str.strptime(pl.Date, \"%F %T\", strict=False),\n",
        "        )\n",
        "\n",
        "        enc = LabelEncoder()\n",
        "        self.df = self.df.with_columns(\n",
        "            pl.col(\"training_category\").map_batches(enc.fit_transform)\n",
        "        )\n",
        "\n",
        "        enc = LabelEncoder()\n",
        "        self.df = self.df.with_columns(\n",
        "            pl.col(\"training_name\").map_batches(enc.fit_transform)\n",
        "        )\n",
        "\n",
        "    def get(self):\n",
        "        return self.df\n"
      ],
      "metadata": {
        "id": "gsxA9lz1bX0W"
      },
      "execution_count": 182,
      "outputs": []
    },
    {
      "cell_type": "code",
      "source": [
        "class HRLoader(DataLoader):\n",
        "    \"\"\"hr.csvファイル用のDataLoader\"\"\"\n",
        "\n",
        "    def __init__(self, file_path: str = \"dx.csv\"):\n",
        "        super().__init__()\n",
        "        self.file_path = file_path\n",
        "        self.df = pl.read_csv(self.file_path)\n",
        "\n",
        "        column_mapping = {\n",
        "            \"社員番号\": \"employee_id\",\n",
        "            \"カテゴリ\": \"hr_training_category\",\n",
        "            \"研修名\": \"hr_training_name\",\n",
        "            \"実施日\": \"hr_training_date\",\n",
        "        }\n",
        "\n",
        "        self.df = self.df.rename(column_mapping)\n",
        "\n",
        "        self.df = self.df.with_columns(\n",
        "            pl.col(\"hr_training_date\").str.split(\",\")  # カンマで分割してリストに\n",
        "        ).explode(\"hr_training_date\")  # リストを縦に展開\n",
        "\n",
        "        # TODO: 日付のフォーマットが複数あるので、coalesceでフォーマットを変換\n",
        "        # self.df = self.df.with_columns(\n",
        "        #     pl.col(\"hr_training_date\").map_elements(extract_dates_polars, return_dtype=pl.List(pl.String)).alias(\"hr_training_date\")\n",
        "        # ).explode(\"hr_training_date\")\n",
        "\n",
        "        self.df = self.df.with_columns([\n",
        "            pl.coalesce([\n",
        "                pl.col(\"hr_training_date\").str.strptime(pl.Date, \"%Y/%m/%d\", strict=False),\n",
        "                pl.col(\"hr_training_date\").str.strptime(pl.Date, \"%Y-%m-%d %H:%M:%S\", strict=False)\n",
        "            ])\n",
        "        ])\n",
        "\n",
        "        enc = LabelEncoder()\n",
        "        self.df = self.df.with_columns(\n",
        "            pl.col(\"hr_training_category\").map_batches(enc.fit_transform)\n",
        "        )\n",
        "\n",
        "        enc = LabelEncoder()\n",
        "        self.df = self.df.with_columns(\n",
        "            pl.col(\"hr_training_name\").map_batches(enc.fit_transform)\n",
        "        )\n",
        "\n",
        "\n",
        "    def get(self):\n",
        "        return self.df"
      ],
      "metadata": {
        "id": "22LWzbE4bc9k"
      },
      "execution_count": 183,
      "outputs": []
    },
    {
      "cell_type": "code",
      "source": [
        "class OvertimeWorkLoader(DataLoader):\n",
        "    \"\"\"overtime_work_by_month.csvファイル用のDataLoader\"\"\"\n",
        "\n",
        "    def __init__(self, file_path: str = \"overtime_work_by_month.csv\"):\n",
        "        super().__init__()\n",
        "        self.file_path = file_path\n",
        "        self.df = pl.read_csv(self.file_path)\n",
        "\n",
        "        column_mapping = {\n",
        "            \"社員番号\": \"employee_id\",\n",
        "        }\n",
        "\n",
        "        self.df = self.df.rename(column_mapping)\n",
        "\n",
        "    def get(self):\n",
        "        return self.df"
      ],
      "metadata": {
        "id": "JegvBW1UbhPo"
      },
      "execution_count": 184,
      "outputs": []
    },
    {
      "cell_type": "code",
      "source": [
        "class PositionHistoryLoader(DataLoader):\n",
        "    \"\"\"position_history.csvファイル用のDataLoader\"\"\"\n",
        "\n",
        "    def __init__(self, file_path: str = \"position_history.csv\"):\n",
        "        super().__init__()\n",
        "        self.file_path = file_path\n",
        "        self.df = pl.read_csv(self.file_path)\n",
        "\n",
        "        column_mapping = {\n",
        "            \"社員番号\": \"employee_id\",\n",
        "            \"year\": \"year\",\n",
        "            \"勤務区分\": \"work_category\",\n",
        "            \"役職\": \"position\"\n",
        "        }\n",
        "\n",
        "        self.df = self.df.rename(column_mapping)\n",
        "\n",
        "        self.df = self.df.with_columns(\n",
        "            pl.col(\"work_category\").map_batches(LabelEncoder().fit_transform)\n",
        "        )\n",
        "\n",
        "        self.df = self.df.with_columns(\n",
        "            pl.col(\"position\").map_batches(LabelEncoder().fit_transform)\n",
        "        )\n",
        "\n",
        "    def get(self):\n",
        "        return self.df"
      ],
      "metadata": {
        "id": "EPwvCuZvbkhE"
      },
      "execution_count": 185,
      "outputs": []
    },
    {
      "cell_type": "code",
      "source": [
        "class UdemyActivityLoader(DataLoader):\n",
        "    \"\"\"udemy_activity.csvファイル用のDataLoader\"\"\"\n",
        "\n",
        "    def __init__(self, file_path: str = \"udemy_activity.csv\"):\n",
        "        super().__init__()\n",
        "        self.file_path = file_path\n",
        "        self.df = pl.read_csv(self.file_path)\n",
        "\n",
        "        column_mapping = {\n",
        "            \"社員番号\": \"employee_id\",\n",
        "            \"コースID\": \"course_id\",\n",
        "            \"コースタイトル\": \"course_title\",\n",
        "            \"レクチャーもしくはクイズ\": \"lecture_or_quiz\",\n",
        "            \"レクチャー/クイズID\": \"lecture_or_quiz_id\",\n",
        "            \"レクチャー/クイズの題名\": \"lecture_or_quiz_title\",\n",
        "            \"開始日\": \"start_date\",\n",
        "            \"終了日\": \"end_date\",\n",
        "            \"推定完了率%\": \"estimated_completion_rate_percent\",\n",
        "            \"最終結果（クイズの場合）\": \"final_result_if_quiz\",\n",
        "            \"マーク済み修了\": \"marked_as_completed\",\n",
        "            \"コースカテゴリー\": \"course_category\",\n",
        "        }\n",
        "\n",
        "        self.df = self.df.rename(column_mapping)\n",
        "\n",
        "        # カテゴリ変数\n",
        "        self.df = self.df.with_columns(\n",
        "            pl.col(\"lecture_or_quiz_id\").cast(pl.Utf8).cast(pl.Utf8)\n",
        "        )\n",
        "\n",
        "        self.df = self.df.with_columns(\n",
        "            [\n",
        "                pl.coalesce(\n",
        "                    [\n",
        "                        pl.col(\"start_date\").str.strptime(\n",
        "                            pl.Datetime, \"%Y/%m/%d %H:%M\", strict=False\n",
        "                        )\n",
        "                    ]\n",
        "                )\n",
        "            ]\n",
        "        ).with_columns(\n",
        "            [\n",
        "                pl.coalesce(\n",
        "                    [\n",
        "                        pl.col(\"end_date\").str.strptime(\n",
        "                            pl.Datetime, \"%Y/%m/%d %H:%M\", strict=False\n",
        "                        )\n",
        "                    ]\n",
        "                )\n",
        "            ]\n",
        "        )\n",
        "\n",
        "        self.df = self.df.with_columns(\n",
        "            pl.col(\"course_title\").map_batches(LabelEncoder().fit_transform)\n",
        "        )\n",
        "\n",
        "        self.df = self.df.with_columns(\n",
        "            pl.col(\"lecture_or_quiz_title\").map_batches(LabelEncoder().fit_transform)\n",
        "        )\n",
        "\n",
        "        self.df = self.df.with_columns(\n",
        "            pl.col(\"course_category\").map_batches(LabelEncoder().fit_transform)\n",
        "        )\n",
        "\n",
        "    def get(self):\n",
        "        return self.df"
      ],
      "metadata": {
        "id": "-PBNkvR2bn7b"
      },
      "execution_count": 186,
      "outputs": []
    },
    {
      "cell_type": "code",
      "source": [
        "# Load\n",
        "train = TrainLoader(DATA_DIR + \"train.csv\").get()\n",
        "test = TestLoader(DATA_DIR + \"test.csv\").get()\n",
        "career = CareerLoader(DATA_DIR + \"career.csv\").get()\n",
        "dx = DXLoader(DATA_DIR + \"dx.csv\").get()\n",
        "hr = HRLoader(DATA_DIR + \"hr.csv\").get()\n",
        "overtime_work = OvertimeWorkLoader(DATA_DIR + \"overtime_work_by_month.csv\").get()\n",
        "position_history = PositionHistoryLoader(DATA_DIR + \"position_history.csv\").get()\n",
        "udemy_activity = UdemyActivityLoader(DATA_DIR + \"udemy_activity.csv\").get()"
      ],
      "metadata": {
        "id": "VbpVCE8uaema"
      },
      "execution_count": 187,
      "outputs": []
    },
    {
      "cell_type": "code",
      "source": [
        "udemy_activity"
      ],
      "metadata": {
        "colab": {
          "base_uri": "https://localhost:8080/",
          "height": 637
        },
        "id": "fl3aUwXJb-qy",
        "outputId": "a8fe746c-9842-42db-b196-c480766d52c0"
      },
      "execution_count": 188,
      "outputs": [
        {
          "output_type": "execute_result",
          "data": {
            "text/plain": [
              "shape: (539_164, 12)\n",
              "┌───────────┬───────────┬───────────┬───────────┬───┬───────────┬───────────┬───────────┬──────────┐\n",
              "│ employee_ ┆ course_id ┆ course_ti ┆ lecture_o ┆ … ┆ estimated ┆ final_res ┆ marked_as ┆ course_c │\n",
              "│ id        ┆ ---       ┆ tle       ┆ r_quiz    ┆   ┆ _completi ┆ ult_if_qu ┆ _complete ┆ ategory  │\n",
              "│ ---       ┆ i64       ┆ ---       ┆ ---       ┆   ┆ on_rate_p ┆ iz        ┆ d         ┆ ---      │\n",
              "│ str       ┆           ┆ i64       ┆ str       ┆   ┆ erc…      ┆ ---       ┆ ---       ┆ i64      │\n",
              "│           ┆           ┆           ┆           ┆   ┆ ---       ┆ f64       ┆ bool      ┆          │\n",
              "│           ┆           ┆           ┆           ┆   ┆ f64       ┆           ┆           ┆          │\n",
              "╞═══════════╪═══════════╪═══════════╪═══════════╪═══╪═══════════╪═══════════╪═══════════╪══════════╡\n",
              "│ -1sqs0GXz ┆ 4615016   ┆ 3012      ┆ Quiz      ┆ … ┆ 100.0     ┆ 0.0       ┆ true      ┆ 270      │\n",
              "│ pPJuAVKHU ┆           ┆           ┆           ┆   ┆           ┆           ┆           ┆          │\n",
              "│ UFgg==    ┆           ┆           ┆           ┆   ┆           ┆           ┆           ┆          │\n",
              "│ -1sqs0GXz ┆ 4615016   ┆ 3012      ┆ Quiz      ┆ … ┆ 100.0     ┆ 100.0     ┆ true      ┆ 270      │\n",
              "│ pPJuAVKHU ┆           ┆           ┆           ┆   ┆           ┆           ┆           ┆          │\n",
              "│ UFgg==    ┆           ┆           ┆           ┆   ┆           ┆           ┆           ┆          │\n",
              "│ -1sqs0GXz ┆ 4615016   ┆ 3012      ┆ Quiz      ┆ … ┆ 100.0     ┆ 0.0       ┆ true      ┆ 270      │\n",
              "│ pPJuAVKHU ┆           ┆           ┆           ┆   ┆           ┆           ┆           ┆          │\n",
              "│ UFgg==    ┆           ┆           ┆           ┆   ┆           ┆           ┆           ┆          │\n",
              "│ -1sqs0GXz ┆ 4615016   ┆ 3012      ┆ Quiz      ┆ … ┆ 100.0     ┆ 100.0     ┆ true      ┆ 270      │\n",
              "│ pPJuAVKHU ┆           ┆           ┆           ┆   ┆           ┆           ┆           ┆          │\n",
              "│ UFgg==    ┆           ┆           ┆           ┆   ┆           ┆           ┆           ┆          │\n",
              "│ -1sqs0GXz ┆ 4615016   ┆ 3012      ┆ Quiz      ┆ … ┆ 100.0     ┆ 100.0     ┆ true      ┆ 270      │\n",
              "│ pPJuAVKHU ┆           ┆           ┆           ┆   ┆           ┆           ┆           ┆          │\n",
              "│ UFgg==    ┆           ┆           ┆           ┆   ┆           ┆           ┆           ┆          │\n",
              "│ …         ┆ …         ┆ …         ┆ …         ┆ … ┆ …         ┆ …         ┆ …         ┆ …        │\n",
              "│ zxY0Eflwm ┆ 5264112   ┆ 3012      ┆ Video_lec ┆ … ┆ 100.0     ┆ null      ┆ true      ┆ 270      │\n",
              "│ 1tYj1Wt6v ┆           ┆           ┆ ture      ┆   ┆           ┆           ┆           ┆          │\n",
              "│ o_1g==    ┆           ┆           ┆           ┆   ┆           ┆           ┆           ┆          │\n",
              "│ zxY0Eflwm ┆ 5264112   ┆ 3012      ┆ Video_lec ┆ … ┆ 100.0     ┆ null      ┆ true      ┆ 270      │\n",
              "│ 1tYj1Wt6v ┆           ┆           ┆ ture      ┆   ┆           ┆           ┆           ┆          │\n",
              "│ o_1g==    ┆           ┆           ┆           ┆   ┆           ┆           ┆           ┆          │\n",
              "│ zxY0Eflwm ┆ 6098315   ┆ 3012      ┆ Video_lec ┆ … ┆ 100.0     ┆ null      ┆ true      ┆ 270      │\n",
              "│ 1tYj1Wt6v ┆           ┆           ┆ ture      ┆   ┆           ┆           ┆           ┆          │\n",
              "│ o_1g==    ┆           ┆           ┆           ┆   ┆           ┆           ┆           ┆          │\n",
              "│ zxY0Eflwm ┆ 6106205   ┆ 3012      ┆ Video_lec ┆ … ┆ 100.0     ┆ null      ┆ true      ┆ 270      │\n",
              "│ 1tYj1Wt6v ┆           ┆           ┆ ture      ┆   ┆           ┆           ┆           ┆          │\n",
              "│ o_1g==    ┆           ┆           ┆           ┆   ┆           ┆           ┆           ┆          │\n",
              "│ zxY0Eflwm ┆ 6169093   ┆ 3012      ┆ Video_lec ┆ … ┆ 100.0     ┆ null      ┆ true      ┆ 270      │\n",
              "│ 1tYj1Wt6v ┆           ┆           ┆ ture      ┆   ┆           ┆           ┆           ┆          │\n",
              "│ o_1g==    ┆           ┆           ┆           ┆   ┆           ┆           ┆           ┆          │\n",
              "└───────────┴───────────┴───────────┴───────────┴───┴───────────┴───────────┴───────────┴──────────┘"
            ],
            "text/html": [
              "<div><style>\n",
              ".dataframe > thead > tr,\n",
              ".dataframe > tbody > tr {\n",
              "  text-align: right;\n",
              "  white-space: pre-wrap;\n",
              "}\n",
              "</style>\n",
              "<small>shape: (539_164, 12)</small><table border=\"1\" class=\"dataframe\"><thead><tr><th>employee_id</th><th>course_id</th><th>course_title</th><th>lecture_or_quiz</th><th>lecture_or_quiz_id</th><th>lecture_or_quiz_title</th><th>start_date</th><th>end_date</th><th>estimated_completion_rate_percent</th><th>final_result_if_quiz</th><th>marked_as_completed</th><th>course_category</th></tr><tr><td>str</td><td>i64</td><td>i64</td><td>str</td><td>str</td><td>i64</td><td>datetime[μs]</td><td>datetime[μs]</td><td>f64</td><td>f64</td><td>bool</td><td>i64</td></tr></thead><tbody><tr><td>&quot;-1sqs0GXzpPJuAVKHUUFgg==&quot;</td><td>4615016</td><td>3012</td><td>&quot;Quiz&quot;</td><td>&quot;5528090&quot;</td><td>62746</td><td>2022-04-11 10:10:00</td><td>2022-04-11 10:10:00</td><td>100.0</td><td>0.0</td><td>true</td><td>270</td></tr><tr><td>&quot;-1sqs0GXzpPJuAVKHUUFgg==&quot;</td><td>4615016</td><td>3012</td><td>&quot;Quiz&quot;</td><td>&quot;5528090&quot;</td><td>62746</td><td>2022-04-11 10:11:00</td><td>2022-04-11 10:11:00</td><td>100.0</td><td>100.0</td><td>true</td><td>270</td></tr><tr><td>&quot;-1sqs0GXzpPJuAVKHUUFgg==&quot;</td><td>4615016</td><td>3012</td><td>&quot;Quiz&quot;</td><td>&quot;5528100&quot;</td><td>62746</td><td>2022-04-11 10:26:00</td><td>2022-04-11 10:26:00</td><td>100.0</td><td>0.0</td><td>true</td><td>270</td></tr><tr><td>&quot;-1sqs0GXzpPJuAVKHUUFgg==&quot;</td><td>4615016</td><td>3012</td><td>&quot;Quiz&quot;</td><td>&quot;5528100&quot;</td><td>62746</td><td>2022-04-11 10:27:00</td><td>2022-04-11 10:27:00</td><td>100.0</td><td>100.0</td><td>true</td><td>270</td></tr><tr><td>&quot;-1sqs0GXzpPJuAVKHUUFgg==&quot;</td><td>4615016</td><td>3012</td><td>&quot;Quiz&quot;</td><td>&quot;5528102&quot;</td><td>62746</td><td>2022-04-11 10:21:00</td><td>2022-04-11 10:21:00</td><td>100.0</td><td>100.0</td><td>true</td><td>270</td></tr><tr><td>&hellip;</td><td>&hellip;</td><td>&hellip;</td><td>&hellip;</td><td>&hellip;</td><td>&hellip;</td><td>&hellip;</td><td>&hellip;</td><td>&hellip;</td><td>&hellip;</td><td>&hellip;</td><td>&hellip;</td></tr><tr><td>&quot;zxY0Eflwm1tYj1Wt6vo_1g==&quot;</td><td>5264112</td><td>3012</td><td>&quot;Video_lecture&quot;</td><td>&quot;37311144&quot;</td><td>62746</td><td>2023-06-14 09:56:00</td><td>2023-06-14 09:56:00</td><td>100.0</td><td>null</td><td>true</td><td>270</td></tr><tr><td>&quot;zxY0Eflwm1tYj1Wt6vo_1g==&quot;</td><td>5264112</td><td>3012</td><td>&quot;Video_lecture&quot;</td><td>&quot;37311150&quot;</td><td>62746</td><td>2023-06-14 09:57:00</td><td>2023-06-14 09:57:00</td><td>100.0</td><td>null</td><td>true</td><td>270</td></tr><tr><td>&quot;zxY0Eflwm1tYj1Wt6vo_1g==&quot;</td><td>6098315</td><td>3012</td><td>&quot;Video_lecture&quot;</td><td>&quot;45012691&quot;</td><td>62746</td><td>2024-09-27 15:39:00</td><td>2024-09-27 16:17:00</td><td>100.0</td><td>null</td><td>true</td><td>270</td></tr><tr><td>&quot;zxY0Eflwm1tYj1Wt6vo_1g==&quot;</td><td>6106205</td><td>3012</td><td>&quot;Video_lecture&quot;</td><td>&quot;45088199&quot;</td><td>62746</td><td>2024-12-16 16:21:00</td><td>2024-12-16 17:39:00</td><td>100.0</td><td>null</td><td>true</td><td>270</td></tr><tr><td>&quot;zxY0Eflwm1tYj1Wt6vo_1g==&quot;</td><td>6169093</td><td>3012</td><td>&quot;Video_lecture&quot;</td><td>&quot;45683413&quot;</td><td>62746</td><td>2024-09-27 16:21:00</td><td>2024-09-27 17:39:00</td><td>100.0</td><td>null</td><td>true</td><td>270</td></tr></tbody></table></div>"
            ]
          },
          "metadata": {},
          "execution_count": 188
        }
      ]
    },
    {
      "cell_type": "markdown",
      "source": [
        "## 特徴量の作成"
      ],
      "metadata": {
        "id": "XPDJoRnWX1RJ"
      }
    },
    {
      "cell_type": "code",
      "source": [
        "# input session\n",
        "def attach_fold(df) -> pl.DataFrame:\n",
        "\n",
        "  # どのfoldも同じくらいpositive例が出現するようにstratifiedにする\n",
        "  sgkf = StratifiedGroupKFold(n_splits=CFG.N_SPLIT)\n",
        "\n",
        "  folds = [\n",
        "      df[test_index].select(\"employee_id\").with_columns(\n",
        "          pl.lit(i).alias(\"fold\")\n",
        "      ) for i, (train_index, test_index) in enumerate(sgkf.split(df, df[\"target\"], df[\"employee_id\"]))\n",
        "  ]\n",
        "\n",
        "  return df.join(pl.concat(folds), on=\"employee_id\", how=\"left\")\n",
        "\n",
        "train = attach_fold(train)"
      ],
      "metadata": {
        "id": "fun5j4e2fKCh"
      },
      "execution_count": 189,
      "outputs": []
    },
    {
      "cell_type": "markdown",
      "source": [
        "### dx"
      ],
      "metadata": {
        "id": "MLsflsybfPRv"
      }
    },
    {
      "cell_type": "code",
      "source": [
        "dx_training_category = dx[[\"employee_id\", \"training_category\", \"training_date\"]].pivot(\"training_category\", index=\"employee_id\", aggregate_function=\"len\")\n",
        "prefix = \"dx_training_category_\"\n",
        "dx_training_category = dx_training_category.rename({col: prefix + col for col in dx_training_category.columns if col != \"employee_id\"})\n",
        "\n",
        "dx_training_name = dx[[\"employee_id\", \"training_name\", \"training_date\"]].pivot(\"training_name\", index=\"employee_id\", aggregate_function=\"len\")\n",
        "prefix = \"dx_training_name_\"\n",
        "dx_training_name = dx_training_name.rename({col: prefix + col for col in dx_training_name.columns if col != \"employee_id\"})"
      ],
      "metadata": {
        "id": "SP-M5ZevfQnR"
      },
      "execution_count": 190,
      "outputs": []
    },
    {
      "cell_type": "markdown",
      "source": [
        "### hr"
      ],
      "metadata": {
        "id": "DcPhFeKqfX9g"
      }
    },
    {
      "cell_type": "code",
      "source": [
        "hr_training_category = hr[[\"employee_id\", \"hr_training_category\", \"hr_training_date\"]].pivot(\"hr_training_category\", index=\"employee_id\", aggregate_function=\"len\")\n",
        "prefix = \"hr_training_category_\"\n",
        "hr_training_category = hr_training_category.rename({col: prefix + col for col in hr_training_category.columns if col != \"employee_id\"})\n",
        "\n",
        "hr_training_name = hr[[\"employee_id\", \"hr_training_name\", \"hr_training_date\"]].pivot(\"hr_training_name\", index=\"employee_id\", aggregate_function=\"len\")\n",
        "prefix = \"hr_training_name_\"\n",
        "hr_training_name = hr_training_name.rename({col: prefix + col for col in hr_training_name.columns if col != \"employee_id\"})"
      ],
      "metadata": {
        "id": "8Hg9JxVNfZMM"
      },
      "execution_count": 191,
      "outputs": []
    },
    {
      "cell_type": "markdown",
      "source": [
        "### udemy_activity"
      ],
      "metadata": {
        "id": "FkaOGtl0fk_1"
      }
    },
    {
      "cell_type": "code",
      "source": [
        "udemy_activity_numerical = udemy_activity.group_by(\"employee_id\").agg([\n",
        "  # estimated_completion_rate_percent\n",
        "  pl.col(\"estimated_completion_rate_percent\").mean().alias(\"estimated_completion_rate_percent_mean\"),\n",
        "  pl.col(\"estimated_completion_rate_percent\").min().alias(\"estimated_completion_rate_percent_min\"),\n",
        "  pl.col(\"estimated_completion_rate_percent\").max().alias(\"estimated_completion_rate_percent_max\"),\n",
        "  pl.col(\"estimated_completion_rate_percent\").std().alias(\"estimated_completion_rate_percent_std\"),\n",
        "  pl.col(\"estimated_completion_rate_percent\").count().alias(\"estimated_completion_rate_percent_count\"),\n",
        "\n",
        "  # final_result_if_quiz\n",
        "  pl.col(\"final_result_if_quiz\").mean().alias(\"final_result_if_quiz_mean\"),\n",
        "  pl.col(\"final_result_if_quiz\").min().alias(\"final_result_if_quiz_min\"),\n",
        "  pl.col(\"final_result_if_quiz\").max().alias(\"final_result_if_quiz_max\"),\n",
        "  pl.col(\"final_result_if_quiz\").std().alias(\"final_result_if_quiz_std\"),\n",
        "  pl.col(\"final_result_if_quiz\").count().alias(\"final_result_if_quiz_count\"),\n",
        "\n",
        "  # marked_as_completed\n",
        "  pl.col(\"marked_as_completed\").mean().alias(\"marked_as_completed_mean\"),\n",
        "  pl.col(\"marked_as_completed\").min().alias(\"marked_as_completed_min\"),\n",
        "  pl.col(\"marked_as_completed\").max().alias(\"marked_as_completed_max\"),\n",
        "  pl.col(\"marked_as_completed\").std().alias(\"marked_as_completed_std\"),\n",
        "  pl.col(\"marked_as_completed\").count().alias(\"marked_as_completed_count\"),\n",
        "])\n",
        "\n",
        "\n",
        "udemy_activity_course_category = udemy_activity[[\"employee_id\", \"course_category\", \"start_date\"]].pivot(\"course_category\", index=\"employee_id\", aggregate_function=\"len\")\n",
        "prefix = \"udemy_activity_course_category_\"\n",
        "udemy_activity_course_category = udemy_activity_course_category.rename({col: prefix + col for col in udemy_activity_course_category.columns if col != \"employee_id\"})\n",
        "\n",
        "\n",
        "udemy_activity_lecture_or_quiz = udemy_activity[[\"employee_id\", \"lecture_or_quiz\", \"start_date\"]].pivot(\"lecture_or_quiz\", index=\"employee_id\", aggregate_function=\"len\")\n",
        "prefix = \"udemy_activity_lecture_or_quiz_\"\n",
        "udemy_activity_lecture_or_quiz = udemy_activity_lecture_or_quiz.rename({col: prefix + col for col in udemy_activity_lecture_or_quiz.columns if col != \"employee_id\"})\n",
        "\n",
        "\n",
        "# udemy_activity_course_id = udemy_activity[[\"employee_id\", \"course_id\", \"start_date\"]].pivot(\"course_id\", index=\"employee_id\", aggregate_function=\"len\")"
      ],
      "metadata": {
        "id": "BSeTWZZIfnqp"
      },
      "execution_count": 192,
      "outputs": []
    },
    {
      "cell_type": "markdown",
      "source": [
        "### career"
      ],
      "metadata": {
        "id": "8ECDKCuPZhB5"
      }
    },
    {
      "cell_type": "markdown",
      "source": [
        "### position_history"
      ],
      "metadata": {
        "id": "_61deROwY0Uq"
      }
    },
    {
      "cell_type": "code",
      "source": [
        "position_history_work_category = position_history[[\"employee_id\", \"work_category\", \"year\"]].pivot(\"work_category\", index=\"employee_id\", aggregate_function=\"len\")\n",
        "prefix = \"position_history_work_category_\"\n",
        "position_history_work_category = position_history_work_category.rename({col: prefix + col for col in position_history_work_category.columns if col != \"employee_id\"})\n",
        "\n",
        "position_history_position = position_history[[\"employee_id\", \"position\", \"year\"]].pivot(\"position\", index=\"employee_id\", aggregate_function=\"len\")\n",
        "prefix = \"position_history_position_\"\n",
        "position_history_position = position_history_position.rename({col: prefix + col for col in position_history_position.columns if col != \"employee_id\"})"
      ],
      "metadata": {
        "id": "1YZ4MkbmY88e"
      },
      "execution_count": 193,
      "outputs": []
    },
    {
      "cell_type": "markdown",
      "source": [
        "### overtime_work_by_month"
      ],
      "metadata": {
        "id": "SJIkra9LY9zs"
      }
    },
    {
      "cell_type": "code",
      "source": [
        "overtime_work = overtime_work.group_by(\"employee_id\").agg([\n",
        "  pl.col(\"hours\").mean().alias(\"hours_mean\"),\n",
        "  pl.col(\"hours\").min().alias(\"hours_min\"),\n",
        "  pl.col(\"hours\").max().alias(\"hours_max\"),\n",
        "  pl.col(\"hours\").std().alias(\"hours_std\"),\n",
        "  pl.col(\"hours\").count().alias(\"hours_count\"),\n",
        "])"
      ],
      "metadata": {
        "id": "3P2FrR7oZFWW"
      },
      "execution_count": 194,
      "outputs": []
    },
    {
      "cell_type": "markdown",
      "source": [
        "### データのマージ"
      ],
      "metadata": {
        "id": "iSBLNY0aZJfe"
      }
    },
    {
      "cell_type": "code",
      "source": [
        "train_df = train.join(\n",
        "    career_df, on=\"employee_id\", how=\"left\"\n",
        ").join(\n",
        "    dx_training_category, on=\"employee_id\", how=\"left\"\n",
        ").join(\n",
        "    dx_training_name, on=\"employee_id\", how=\"left\"\n",
        ").join(\n",
        "    hr_training_category, on=\"employee_id\", how=\"left\"\n",
        ").join(\n",
        "    hr_training_name, on=\"employee_id\", how=\"left\"\n",
        ").join(\n",
        "    overtime_work_df, on=\"employee_id\", how=\"left\"\n",
        ").join(\n",
        "    position_history_work_category, on=\"employee_id\", how=\"left\"\n",
        ").join(\n",
        "    position_history_position, on=\"employee_id\", how=\"left\"\n",
        ").join(\n",
        "    udemy_activity_numerical, on=\"employee_id\", how=\"left\"\n",
        ").join(\n",
        "    udemy_activity_course_category, on=\"employee_id\", how=\"left\"\n",
        ").join(\n",
        "    udemy_activity_lecture_or_quiz, on=\"employee_id\", how=\"left\"\n",
        "# ).join(\n",
        "#     udemy_activity_course_id, on=\"employee_id\", how=\"left\"\n",
        ")\n",
        "\n",
        "assert len(train) == len(train_df)"
      ],
      "metadata": {
        "id": "I0grqmzbrCzE"
      },
      "execution_count": 195,
      "outputs": []
    },
    {
      "cell_type": "code",
      "source": [
        "test_df = test.join(\n",
        "    career, on=\"employee_id\", how=\"left\"\n",
        ").join(\n",
        "    dx_training_category, on=\"employee_id\", how=\"left\"\n",
        ").join(\n",
        "    dx_training_name, on=\"employee_id\", how=\"left\"\n",
        ").join(\n",
        "    hr_training_category, on=\"employee_id\", how=\"left\"\n",
        ").join(\n",
        "    hr_training_name, on=\"employee_id\", how=\"left\"\n",
        ").join(\n",
        "    overtime_work_df, on=\"employee_id\", how=\"left\"\n",
        ").join(\n",
        "    position_history_work_category, on=\"employee_id\", how=\"left\"\n",
        ").join(\n",
        "    position_history_position, on=\"employee_id\", how=\"left\"\n",
        ").join(\n",
        "    udemy_activity_numerical, on=\"employee_id\", how=\"left\"\n",
        ").join(\n",
        "    udemy_activity_course_category, on=\"employee_id\", how=\"left\"\n",
        ").join(\n",
        "    udemy_activity_lecture_or_quiz, on=\"employee_id\", how=\"left\"\n",
        "# ).join(\n",
        "#     udemy_activity_course_id, on=\"employee_id\", how=\"left\"\n",
        ")\n",
        "\n",
        "assert len(test) == len(test_df)"
      ],
      "metadata": {
        "id": "AZoNbdzVf00i"
      },
      "execution_count": 196,
      "outputs": []
    },
    {
      "cell_type": "markdown",
      "source": [
        "## モデルの学習"
      ],
      "metadata": {
        "id": "2A1So743XnlS"
      }
    },
    {
      "cell_type": "code",
      "source": [
        "pred_dfs = []\n",
        "true_dfs = []\n",
        "models = []\n",
        "\n",
        "for fold in range(CFG.N_SPLIT):\n",
        "\n",
        "  print(f\"#### Fold: {fold} ####\")\n",
        "  _train_df = train_df.filter(\n",
        "      pl.col(\"fold\") != fold\n",
        "  )\n",
        "  _val_df = train_df.filter(\n",
        "      pl.col(\"fold\") == fold\n",
        "  )\n",
        "\n",
        "  X_train = _train_df.drop([\"employee_id\", \"target\", \"fold\"])\n",
        "  y_train = _train_df[\"target\"]\n",
        "  X_val = _val_df.drop([\"employee_id\", \"target\", \"fold\"])\n",
        "  y_val = _val_df[\"target\"]\n",
        "\n",
        "  X_train = X_train.with_columns(\n",
        "      pl.col(\"category\").cast(pl.Categorical),\n",
        "      pl.col(\"marked_as_completed_min\").cast(pl.Float64),\n",
        "      pl.col(\"marked_as_completed_max\").cast(pl.Float64)\n",
        "  )\n",
        "  X_val = X_val.with_columns(\n",
        "      pl.col(\"category\").cast(pl.Categorical),\n",
        "      pl.col(\"marked_as_completed_min\").cast(pl.Float64),\n",
        "      pl.col(\"marked_as_completed_max\").cast(pl.Float64)\n",
        "  )\n",
        "\n",
        "  preds = []\n",
        "\n",
        "  # lgbm train\n",
        "  clf = lgb.LGBMClassifier(**CFG.lgb_params)\n",
        "\n",
        "  eval_set = [(X_val.to_pandas(), y_val.to_pandas())]\n",
        "  callbacks = [\n",
        "      lgb.early_stopping(stopping_rounds=100),\n",
        "      lgb.log_evaluation(period=100) # 100回ごとにログを表示\n",
        "  ]\n",
        "\n",
        "  cat_list = [\"category\"]\n",
        "  clf.fit(\n",
        "      X_train.to_pandas(),\n",
        "      y_train.to_pandas(),\n",
        "      eval_set=eval_set,\n",
        "      categorical_feature = cat_list,\n",
        "      callbacks=callbacks\n",
        "  )\n",
        "\n",
        "  # --- ↓ ループの前にこのフォルダ作成処理を追加する ---\n",
        "  CFG.EXP_MODEL_PATH.mkdir(parents=True, exist_ok=True)\n",
        "\n",
        "  best_model_path = CFG.EXP_MODEL_PATH / f\"exp{CFG.VER}_lgb_fold_{fold}.model\"\n",
        "  clf.booster_.save_model(best_model_path)\n",
        "  models.append(clf)\n",
        "\n",
        "  pred = clf.predict_proba(X_val.to_pandas())\n",
        "\n",
        "  pred_dfs.append(pred[:, 1])\n",
        "  true_dfs.append(y_val)"
      ],
      "metadata": {
        "id": "IK6rpjcdgrqd",
        "colab": {
          "base_uri": "https://localhost:8080/"
        },
        "outputId": "bf54c45a-d18e-4d12-9a65-8de5bac075f2"
      },
      "execution_count": 197,
      "outputs": [
        {
          "output_type": "stream",
          "name": "stdout",
          "text": [
            "#### Fold: 0 ####\n",
            "[LightGBM] [Info] Number of positive: 1302, number of negative: 31710\n",
            "[LightGBM] [Info] Auto-choosing row-wise multi-threading, the overhead of testing was 0.090630 seconds.\n",
            "You can set `force_row_wise=true` to remove the overhead.\n",
            "And if memory is not enough, you can set `force_col_wise=true`.\n",
            "[LightGBM] [Info] Total Bins 7630\n",
            "[LightGBM] [Info] Number of data points in the train set: 33012, number of used features: 400\n",
            "[LightGBM] [Info] [binary:BoostFromScore]: pavg=0.039440 -> initscore=-3.192731\n",
            "[LightGBM] [Info] Start training from score -3.192731\n",
            "Training until validation scores don't improve for 100 rounds\n",
            "[100]\tvalid_0's auc: 0.704589\n",
            "Early stopping, best iteration is:\n",
            "[86]\tvalid_0's auc: 0.707995\n",
            "#### Fold: 1 ####\n",
            "[LightGBM] [Info] Number of positive: 1296, number of negative: 31716\n",
            "[LightGBM] [Info] Auto-choosing row-wise multi-threading, the overhead of testing was 0.094856 seconds.\n",
            "You can set `force_row_wise=true` to remove the overhead.\n",
            "And if memory is not enough, you can set `force_col_wise=true`.\n",
            "[LightGBM] [Info] Total Bins 7473\n",
            "[LightGBM] [Info] Number of data points in the train set: 33012, number of used features: 402\n",
            "[LightGBM] [Info] [binary:BoostFromScore]: pavg=0.039258 -> initscore=-3.197539\n",
            "[LightGBM] [Info] Start training from score -3.197539\n",
            "Training until validation scores don't improve for 100 rounds\n",
            "[100]\tvalid_0's auc: 0.656648\n",
            "[200]\tvalid_0's auc: 0.662344\n",
            "[300]\tvalid_0's auc: 0.655623\n",
            "Early stopping, best iteration is:\n",
            "[204]\tvalid_0's auc: 0.664123\n",
            "#### Fold: 2 ####\n",
            "[LightGBM] [Info] Number of positive: 1296, number of negative: 31716\n",
            "[LightGBM] [Info] Auto-choosing row-wise multi-threading, the overhead of testing was 0.088333 seconds.\n",
            "You can set `force_row_wise=true` to remove the overhead.\n",
            "And if memory is not enough, you can set `force_col_wise=true`.\n",
            "[LightGBM] [Info] Total Bins 7493\n",
            "[LightGBM] [Info] Number of data points in the train set: 33012, number of used features: 395\n",
            "[LightGBM] [Info] [binary:BoostFromScore]: pavg=0.039258 -> initscore=-3.197539\n",
            "[LightGBM] [Info] Start training from score -3.197539\n",
            "Training until validation scores don't improve for 100 rounds\n",
            "[100]\tvalid_0's auc: 0.668556\n",
            "Early stopping, best iteration is:\n",
            "[17]\tvalid_0's auc: 0.691249\n",
            "#### Fold: 3 ####\n",
            "[LightGBM] [Info] Number of positive: 1308, number of negative: 31740\n",
            "[LightGBM] [Info] Auto-choosing row-wise multi-threading, the overhead of testing was 0.144376 seconds.\n",
            "You can set `force_row_wise=true` to remove the overhead.\n",
            "And if memory is not enough, you can set `force_col_wise=true`.\n",
            "[LightGBM] [Info] Total Bins 7446\n",
            "[LightGBM] [Info] Number of data points in the train set: 33048, number of used features: 394\n",
            "[LightGBM] [Info] [binary:BoostFromScore]: pavg=0.039579 -> initscore=-3.189078\n",
            "[LightGBM] [Info] Start training from score -3.189078\n",
            "Training until validation scores don't improve for 100 rounds\n",
            "[100]\tvalid_0's auc: 0.703\n",
            "Early stopping, best iteration is:\n",
            "[32]\tvalid_0's auc: 0.705779\n"
          ]
        }
      ]
    },
    {
      "cell_type": "code",
      "source": [
        "# 予測結果やモデルを格納するためのリストを初期化\n",
        "pred_dfs = []\n",
        "true_dfs = []\n",
        "# lgbm専用のモデルリストを作成\n",
        "lgbm_models = []\n",
        "\n",
        "# N_SPLITで定義された回数だけ、交差検証のループを実行\n",
        "for fold in range(CFG.N_SPLIT):\n",
        "\n",
        "  print(f\"#### Fold: {fold} ####\")\n",
        "\n",
        "  # --- データの分割 ---\n",
        "  _train_df = train_df.filter(\n",
        "      pl.col(\"fold\") != fold\n",
        "  )\n",
        "  _val_df = train_df.filter(\n",
        "      pl.col(\"fold\") == fold\n",
        "  )\n",
        "\n",
        "  # --- 特徴量とターゲットの分離 ---\n",
        "  X_train = _train_df.drop([\"employee_id\", \"target\", \"fold\"])\n",
        "  y_train = _train_df[\"target\"]\n",
        "  X_val = _val_df.drop([\"employee_id\", \"target\", \"fold\"])\n",
        "  y_val = _val_df[\"target\"]\n",
        "\n",
        "  # --- データ型の変換 ---\n",
        "  X_train = X_train.with_columns(\n",
        "      pl.col(\"category\").cast(pl.Categorical),\n",
        "      pl.col(\"marked_as_completed_min\").cast(pl.Float64),\n",
        "      pl.col(\"marked_as_completed_max\").cast(pl.Float64)\n",
        "  )\n",
        "  X_val = X_val.with_columns(\n",
        "      pl.col(\"category\").cast(pl.Categorical),\n",
        "      pl.col(\"marked_as_completed_min\").cast(pl.Float64),\n",
        "      pl.col(\"marked_as_completed_max\").cast(pl.Float64)\n",
        "  )\n",
        "\n",
        "  # --- LightGBMモデルの学習 ---\n",
        "  # 1. lgbm専用の分類器インスタンスを作成\n",
        "  lgbm_clf = lgb.LGBMClassifier(**CFG.lgb_params)\n",
        "\n",
        "  # 2. 検証用データセットとコールバックを定義\n",
        "  eval_set = [(X_val.to_pandas(), y_val.to_pandas())]\n",
        "  callbacks = [\n",
        "      lgb.early_stopping(stopping_rounds=100),\n",
        "      lgb.log_evaluation(period=100) # 100回ごとにログを表示\n",
        "  ]\n",
        "\n",
        "  # 3. カテゴリカル特徴量を指定してモデルを学習\n",
        "  cat_list = [\"category\"]\n",
        "  lgbm_clf.fit(\n",
        "      X_train.to_pandas(),\n",
        "      y_train.to_pandas(),\n",
        "      eval_set=eval_set,\n",
        "      categorical_feature = cat_list,\n",
        "      callbacks=callbacks\n",
        "  )\n",
        "\n",
        "  # モデルを保存するディレクトリを作成（存在しない場合のみ）\n",
        "  CFG.EXP_MODEL_PATH.mkdir(parents=True, exist_ok=True)\n",
        "\n",
        "  # 4. 学習済みモデルを保存（ファイル名に'lgb'を含める）\n",
        "  best_model_path = CFG.EXP_MODEL_PATH / f\"exp{CFG.VER}_lgb_fold_{fold}.model\"\n",
        "  lgbm_clf.booster_.save_model(best_model_path)\n",
        "  # lgbm専用のリストにモデルを追加\n",
        "  lgbm_models.append(lgbm_clf)\n",
        "\n",
        "  # 検証用データで予測を実行\n",
        "  pred = lgbm_clf.predict_proba(X_val.to_pandas())\n",
        "\n",
        "  # 予測結果（応募確率）と正解ラベルをリストに格納\n",
        "  pred_dfs.append(pred[:, 1])\n",
        "  true_dfs.append(y_val)"
      ],
      "metadata": {
        "colab": {
          "base_uri": "https://localhost:8080/"
        },
        "id": "EDHJ537P8UfG",
        "outputId": "66f83049-938d-4f80-d84b-20eacc79a891"
      },
      "execution_count": 216,
      "outputs": [
        {
          "output_type": "stream",
          "name": "stdout",
          "text": [
            "#### Fold: 0 ####\n",
            "[LightGBM] [Info] Number of positive: 1302, number of negative: 31710\n",
            "[LightGBM] [Info] Auto-choosing row-wise multi-threading, the overhead of testing was 0.134305 seconds.\n",
            "You can set `force_row_wise=true` to remove the overhead.\n",
            "And if memory is not enough, you can set `force_col_wise=true`.\n",
            "[LightGBM] [Info] Total Bins 7630\n",
            "[LightGBM] [Info] Number of data points in the train set: 33012, number of used features: 400\n",
            "[LightGBM] [Info] [binary:BoostFromScore]: pavg=0.039440 -> initscore=-3.192731\n",
            "[LightGBM] [Info] Start training from score -3.192731\n",
            "Training until validation scores don't improve for 100 rounds\n",
            "[100]\tvalid_0's auc: 0.704589\n",
            "Early stopping, best iteration is:\n",
            "[86]\tvalid_0's auc: 0.707995\n",
            "#### Fold: 1 ####\n",
            "[LightGBM] [Info] Number of positive: 1296, number of negative: 31716\n",
            "[LightGBM] [Info] Auto-choosing row-wise multi-threading, the overhead of testing was 0.091975 seconds.\n",
            "You can set `force_row_wise=true` to remove the overhead.\n",
            "And if memory is not enough, you can set `force_col_wise=true`.\n",
            "[LightGBM] [Info] Total Bins 7473\n",
            "[LightGBM] [Info] Number of data points in the train set: 33012, number of used features: 402\n",
            "[LightGBM] [Info] [binary:BoostFromScore]: pavg=0.039258 -> initscore=-3.197539\n",
            "[LightGBM] [Info] Start training from score -3.197539\n",
            "Training until validation scores don't improve for 100 rounds\n",
            "[100]\tvalid_0's auc: 0.656648\n",
            "[200]\tvalid_0's auc: 0.662344\n",
            "[300]\tvalid_0's auc: 0.655623\n",
            "Early stopping, best iteration is:\n",
            "[204]\tvalid_0's auc: 0.664123\n",
            "#### Fold: 2 ####\n",
            "[LightGBM] [Info] Number of positive: 1296, number of negative: 31716\n",
            "[LightGBM] [Info] Auto-choosing row-wise multi-threading, the overhead of testing was 0.087785 seconds.\n",
            "You can set `force_row_wise=true` to remove the overhead.\n",
            "And if memory is not enough, you can set `force_col_wise=true`.\n",
            "[LightGBM] [Info] Total Bins 7493\n",
            "[LightGBM] [Info] Number of data points in the train set: 33012, number of used features: 395\n",
            "[LightGBM] [Info] [binary:BoostFromScore]: pavg=0.039258 -> initscore=-3.197539\n",
            "[LightGBM] [Info] Start training from score -3.197539\n",
            "Training until validation scores don't improve for 100 rounds\n",
            "[100]\tvalid_0's auc: 0.668556\n",
            "Early stopping, best iteration is:\n",
            "[17]\tvalid_0's auc: 0.691249\n",
            "#### Fold: 3 ####\n",
            "[LightGBM] [Info] Number of positive: 1308, number of negative: 31740\n",
            "[LightGBM] [Info] Auto-choosing row-wise multi-threading, the overhead of testing was 0.148872 seconds.\n",
            "You can set `force_row_wise=true` to remove the overhead.\n",
            "And if memory is not enough, you can set `force_col_wise=true`.\n",
            "[LightGBM] [Info] Total Bins 7446\n",
            "[LightGBM] [Info] Number of data points in the train set: 33048, number of used features: 394\n",
            "[LightGBM] [Info] [binary:BoostFromScore]: pavg=0.039579 -> initscore=-3.189078\n",
            "[LightGBM] [Info] Start training from score -3.189078\n",
            "Training until validation scores don't improve for 100 rounds\n",
            "[100]\tvalid_0's auc: 0.703\n",
            "Early stopping, best iteration is:\n",
            "[32]\tvalid_0's auc: 0.705779\n"
          ]
        }
      ]
    },
    {
      "cell_type": "code",
      "source": [
        "def calc_score(y_true, y_pred):\n",
        "    score = roc_auc_score(y_true, y_pred)\n",
        "    return score"
      ],
      "metadata": {
        "id": "IvpOBSgqleVU"
      },
      "execution_count": 199,
      "outputs": []
    },
    {
      "cell_type": "code",
      "source": [
        "calc_score(\n",
        "    pl.concat(true_dfs),\n",
        "    pl.concat([pl.Series(pred_df) for pred_df in pred_dfs])\n",
        ")"
      ],
      "metadata": {
        "id": "1LZ80gKplgBG",
        "colab": {
          "base_uri": "https://localhost:8080/"
        },
        "outputId": "79cbde21-455f-4ad3-fb69-55a254f98fef"
      },
      "execution_count": 200,
      "outputs": [
        {
          "output_type": "execute_result",
          "data": {
            "text/plain": [
              "np.float64(0.6841472028965802)"
            ]
          },
          "metadata": {},
          "execution_count": 200
        }
      ]
    },
    {
      "cell_type": "code",
      "source": [
        "import xgboost as xgb\n",
        "import pandas as pd\n",
        "import polars as pl\n",
        "from pathlib import Path\n",
        "\n",
        "# (CFGクラスの定義は事前に行われていると仮定します)\n",
        "# class CFG:\n",
        "#     ...\n",
        "\n",
        "# 予測結果やモデルを格納するためのリストを初期化\n",
        "pred_dfs = []\n",
        "true_dfs = []\n",
        "xgb_models = []\n",
        "\n",
        "# N_SPLITで定義された回数だけ、交差検証のループを実行\n",
        "for fold in range(CFG.N_SPLIT):\n",
        "\n",
        "  print(f\"#### Fold: {fold} ####\")\n",
        "\n",
        "  # --- データの分割 ---\n",
        "  # 現在のfold番号以外のデータを学習用（train）とする\n",
        "  _train_df = train_df.filter(\n",
        "      pl.col(\"fold\") != fold\n",
        "  )\n",
        "  # 現在のfold番号のデータを検証用（validation）とする\n",
        "  _val_df = train_df.filter(\n",
        "      pl.col(\"fold\") == fold\n",
        "  )\n",
        "\n",
        "  # --- 特徴量とターゲットの分離 ---\n",
        "  X_train = _train_df.drop([\"employee_id\", \"target\", \"fold\"])\n",
        "  y_train = _train_df[\"target\"]\n",
        "  X_val = _val_df.drop([\"employee_id\", \"target\", \"fold\"])\n",
        "  y_val = _val_df[\"target\"]\n",
        "\n",
        "  # --- データ型の変換 ---\n",
        "  # XGBoostがカテゴリカル特徴量を正しく認識できるように型を変換する\n",
        "  X_train = X_train.with_columns(\n",
        "      pl.col(\"category\").cast(pl.Categorical),\n",
        "      pl.col(\"marked_as_completed_min\").cast(pl.Float64),\n",
        "      pl.col(\"marked_as_completed_max\").cast(pl.Float64)\n",
        "  )\n",
        "  X_val = X_val.with_columns(\n",
        "      pl.col(\"category\").cast(pl.Categorical),\n",
        "      pl.col(\"marked_as_completed_min\").cast(pl.Float64),\n",
        "      pl.col(\"marked_as_completed_max\").cast(pl.Float64)\n",
        "  )\n",
        "\n",
        "  # --- XGBoostモデルの学習 ---\n",
        "  # 1. CFGで定義したパラメータを使って、XGBoost分類器のインスタンスを作成\n",
        "  xgb_clf = xgb.XGBClassifier(**CFG.xgb_params)\n",
        "\n",
        "  # 2. 検証用データセットを定義\n",
        "  eval_set = [(X_val.to_pandas(), y_val.to_pandas())]\n",
        "\n",
        "  # 3. モデルを学習させる\n",
        "  # Note: 早期終了（Early stopping）はCFG.xgb_params内の'early_stopping_rounds'で制御される\n",
        "  # Note: ログの表示頻度は'verbose'パラメータで制御される\n",
        "  xgb_clf.fit(\n",
        "      X_train.to_pandas(),\n",
        "      y_train.to_pandas(),\n",
        "      eval_set=eval_set,\n",
        "      verbose=100 # 100イテレーションごとにログを表示\n",
        "  )\n",
        "\n",
        "  # モデルを保存するディレクトリを作成（存在しない場合のみ）\n",
        "  CFG.EXP_MODEL_PATH.mkdir(parents=True, exist_ok=True)\n",
        "\n",
        "  # 4. 学習済みモデルを保存\n",
        "  best_model_path = CFG.EXP_MODEL_PATH / f\"exp{CFG.VER}_xgb_fold_{fold}.json\"\n",
        "  xgb_clf.save_model(best_model_path)\n",
        "  xgb_models.append(xgb_clf)\n",
        "\n",
        "  # 検証用データで予測を実行\n",
        "  pred = xgb_clf.predict_proba(X_val.to_pandas())\n",
        "\n",
        "  # 予測結果（応募確率）と正解ラベルをリストに格納\n",
        "  pred_dfs.append(pred[:, 1])\n",
        "  true_dfs.append(y_val)"
      ],
      "metadata": {
        "colab": {
          "base_uri": "https://localhost:8080/"
        },
        "id": "JZpWWDB19IT5",
        "outputId": "845020a3-a7a6-455a-bba4-ed78e0ee6de8"
      },
      "execution_count": 221,
      "outputs": [
        {
          "output_type": "stream",
          "name": "stdout",
          "text": [
            "#### Fold: 0 ####\n",
            "[0]\tvalidation_0-auc:0.55081\n",
            "[100]\tvalidation_0-auc:0.67897\n",
            "[119]\tvalidation_0-auc:0.66943\n",
            "#### Fold: 1 ####\n",
            "[0]\tvalidation_0-auc:0.52970\n",
            "[62]\tvalidation_0-auc:0.65731\n",
            "#### Fold: 2 ####\n",
            "[0]\tvalidation_0-auc:0.57301\n",
            "[56]\tvalidation_0-auc:0.65012\n",
            "#### Fold: 3 ####\n",
            "[0]\tvalidation_0-auc:0.56020\n",
            "[100]\tvalidation_0-auc:0.69098\n",
            "[107]\tvalidation_0-auc:0.69008\n"
          ]
        }
      ]
    },
    {
      "cell_type": "code",
      "source": [
        "calc_score(\n",
        "    pl.concat(true_dfs),\n",
        "    pl.concat([pl.Series(pred_df) for pred_df in pred_dfs])\n",
        ")"
      ],
      "metadata": {
        "colab": {
          "base_uri": "https://localhost:8080/"
        },
        "id": "_D1_43e9CPkG",
        "outputId": "d54bec87-2c72-4c8f-c199-c8cd867adefd"
      },
      "execution_count": 222,
      "outputs": [
        {
          "output_type": "execute_result",
          "data": {
            "text/plain": [
              "np.float64(0.6700651053107731)"
            ]
          },
          "metadata": {},
          "execution_count": 222
        }
      ]
    },
    {
      "cell_type": "markdown",
      "source": [
        "## testデータの予測"
      ],
      "metadata": {
        "id": "3tsRplfgqrZG"
      }
    },
    {
      "cell_type": "code",
      "source": [
        "cols = train_df.drop([\"employee_id\", \"fold\", \"target\"]).columns"
      ],
      "metadata": {
        "id": "oUFvLirQ9sPA"
      },
      "execution_count": 209,
      "outputs": []
    },
    {
      "cell_type": "code",
      "source": [
        "# --- 1. テストデータの前処理 (学習時と完全に同じ処理を行う) ---\n",
        "# この処理は一度だけ行います\n",
        "test_processed = test_df.with_columns(\n",
        "    pl.col(\"category\").cast(pl.Categorical),\n",
        "    pl.col(\"marked_as_completed_min\").cast(pl.Float64),\n",
        "    pl.col(\"marked_as_completed_max\").cast(pl.Float64)\n",
        ")[cols].to_pandas()\n",
        "\n",
        "\n",
        "# --- 2. LightGBMモデルでの予測 ---\n",
        "lgbm_preds = []\n",
        "print(\"LightGBMモデルで予測を開始...\")\n",
        "for model in lgbm_models:\n",
        "    # 各foldのモデルで予測\n",
        "    pred = model.predict_proba(test_processed)[:, 1]\n",
        "    lgbm_preds.append(pred)\n",
        "\n",
        "# 各foldの予測結果を平均し、lgbmの最終的な予測値とする\n",
        "avg_lgbm_pred = np.mean(lgbm_preds, axis=0)\n",
        "print(\"LightGBMモデルの予測完了。\")\n",
        "\n",
        "\n",
        "# --- 3. XGBoostモデルでの予測 ---\n",
        "xgb_preds = []\n",
        "print(\"XGBoostモデルで予測を開始...\")\n",
        "for model in xgb_models:\n",
        "    # 各foldのモデルで予測\n",
        "    pred = model.predict_proba(test_processed)[:, 1]\n",
        "    xgb_preds.append(pred)\n",
        "\n",
        "# 各foldの予測結果を平均し、xgbの最終的な予測値とする\n",
        "avg_xgb_pred = np.mean(xgb_preds, axis=0)\n",
        "print(\"XGBoostモデルの予測完了。\")\n",
        "\n",
        "\n",
        "# --- 4. アンサンブル (単純平均) ---\n",
        "# lgbmの予測値とxgbの予測値を単純に平均する\n",
        "print(\"アンサンブル処理を開始...\")\n",
        "final_pred = (avg_lgbm_pred + avg_xgb_pred) / 2\n",
        "print(\"アンサンブル処理完了。\")\n"
      ],
      "metadata": {
        "id": "vZEz-R-xlmkM",
        "colab": {
          "base_uri": "https://localhost:8080/"
        },
        "outputId": "aa5e510f-c79c-48c4-d948-6264a06d1361"
      },
      "execution_count": 217,
      "outputs": [
        {
          "output_type": "stream",
          "name": "stdout",
          "text": [
            "LightGBMモデルで予測を開始...\n",
            "LightGBMモデルの予測完了。\n",
            "XGBoostモデルで予測を開始...\n",
            "XGBoostモデルの予測完了。\n",
            "アンサンブル処理を開始...\n",
            "アンサンブル処理完了。\n"
          ]
        }
      ]
    },
    {
      "cell_type": "markdown",
      "source": [
        "## Sumbissionの作成"
      ],
      "metadata": {
        "id": "a9JBTXDtrFFO"
      }
    },
    {
      "cell_type": "code",
      "source": [
        "# 提出用フォルダを作成（存在しない場合のみ）\n",
        "CFG.SUBMISSION_PATH.mkdir(parents=True, exist_ok=True)\n",
        "\n",
        "# 最終予測値をPolars DataFrameに変換\n",
        "# sample_submission.csvを読み込む必要はなく、予測値の配列から直接作成します\n",
        "submission_df = pl.DataFrame({\n",
        "    \"target\": final_pred\n",
        "})\n",
        "\n",
        "# 保存するファイル名を定義（アンサンブルであることがわかるように変更）\n",
        "# 例: exp001_submission_ensembled.csv\n",
        "submission_filename = f\"exp{CFG.VER:0{3}}_submission_ensembled.csv\"\n",
        "\n",
        "# CSVファイルとして書き出し\n",
        "submission_df.write_csv(CFG.SUBMISSION_PATH / submission_filename)\n",
        "\n",
        "print(f\"アンサンブル結果を '{CFG.SUBMISSION_PATH / submission_filename}' に保存しました。\")"
      ],
      "metadata": {
        "id": "IKGeR-N0ltX9",
        "colab": {
          "base_uri": "https://localhost:8080/"
        },
        "outputId": "73d5b56e-ca1f-4304-c9ee-199ad2b47bb3"
      },
      "execution_count": 220,
      "outputs": [
        {
          "output_type": "stream",
          "name": "stdout",
          "text": [
            "アンサンブル結果を '/content/drive/MyDrive/atmaCup#20/submission/exp1.1_submission_ensembled.csv' に保存しました。\n"
          ]
        }
      ]
    },
    {
      "cell_type": "code",
      "source": [
        "pd.DataFrame({\"target\": final_pred}).hist()\n"
      ],
      "metadata": {
        "id": "t5-qHi81mXYz",
        "colab": {
          "base_uri": "https://localhost:8080/",
          "height": 467
        },
        "outputId": "5a0d3798-9121-4b34-8b6b-588b75fcbc4f"
      },
      "execution_count": 219,
      "outputs": [
        {
          "output_type": "execute_result",
          "data": {
            "text/plain": [
              "array([[<Axes: title={'center': 'target'}>]], dtype=object)"
            ]
          },
          "metadata": {},
          "execution_count": 219
        },
        {
          "output_type": "display_data",
          "data": {
            "text/plain": [
              "<Figure size 640x480 with 1 Axes>"
            ],
            "image/png": "[encoded data removed]"
          },
          "metadata": {}
        }
      ]
    },
    {
      "cell_type": "code",
      "source": [],
      "metadata": {
        "id": "SjqTLPURmXy8"
      },
      "execution_count": null,
      "outputs": []
    }
  ]
}